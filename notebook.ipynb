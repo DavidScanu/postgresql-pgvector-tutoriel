{
 "cells": [
  {
   "cell_type": "markdown",
   "metadata": {},
   "source": [
    "# Comment créer une base de données vectorielle avec PostgreSLQ et pgvector\n",
    "\n",
    "## Etapes\n",
    "\n",
    "1. Créer la BDD PostgreSQL + pgvector dans un conteneur Docker\n",
    "2. Se connecter avec psql (pour vérification)\n",
    "3. Importer les données (textes)\n",
    "4. Créer les vecteurs avec Sentence Transformers\n",
    "5. Créer une table 'quora' dans la BDD\n",
    "6. Sauvegarder les données et les vecteurs dans la BDD\n",
    "7. Utiliser la recherche vectorielle "
   ]
  },
  {
   "cell_type": "markdown",
   "metadata": {},
   "source": [
    "## 1. Docker : Créer la BDD PostgreSQL + pgvector avec dans un conteneur \n",
    "\n",
    "### Docker-compose.yaml\n",
    "\n",
    "Tout d'abord, nous devons créer un fichier `docker-compose.yml` avec les services nécessaires.\n",
    "\n",
    "Dans ce fichier, nous définissons un service appelé `db` qui est basé sur l'image Docker `pgvector/pgvector:pg16`. Le service expose le port `5432` pour interagir avec la base de données et configure des variables d'environnement pour le nom de la base de données, l'utilisateur, le mot de passe et la méthode d'authentification. De plus, nous montons un fichier `init.sql` dans le répertoire `/docker-entrypoint-initdb.d` à l'intérieur du conteneur à des fins d'initialisation.\n",
    "\n",
    "### Fichier init.sql\n",
    "\n",
    "Dans ce script `init.sql`, nous activons l'extension `pgvector`, si elle n'existe pas déjà. Ensuite, nous créons une table appelée `embedding` avec les colonnes : `id`, `embedding`, `text` et `created_at`.\n",
    "\n",
    "### Créer le conteneur\n",
    "\n",
    "```\n",
    "docker-compose up -d\n",
    "```\n",
    "\n",
    "Cette commande créera un conteneur Docker avec le serveur PostgreSQL et l'extension `pgvector` déjà installés et configurés, en fonction des spécifications du fichier `docker-compose.yml`.\n",
    "\n",
    "\n",
    "#### Obsolète \n",
    "\n",
    "Créer un base de données PostgreSQL avec `docker run`\n",
    "\n",
    "```\n",
    "docker run -d --name postgresCont -p 5432:5432 -e POSTGRES_PASSWORD=pass123 postgres\n",
    "docker run -d --name postgresCont -p 5432:5432 -e POSTGRES_PASSWORD=pass123 pgvector/pgvector:pg16\n",
    "docker exec -it postgresCont bash\n",
    "psql -h localhost -U postgres\n",
    "```"
   ]
  },
  {
   "cell_type": "markdown",
   "metadata": {},
   "source": [
    "## 2. Se connecter avec psql (dans le conteneur)\n",
    "\n",
    "### Aller dans le conteneur\n",
    "\n",
    "`docker exec -it <container id> bash`\n",
    "\n",
    "### Se conncter à la base de donnée avec `psql`\n",
    "\n",
    "`psql -h localhost -U postgres -d vectordb`"
   ]
  },
  {
   "cell_type": "code",
   "execution_count": null,
   "metadata": {},
   "outputs": [],
   "source": [
    "# ! pip install sentence-transformers \"psycopg[binary]\" --quiet"
   ]
  },
  {
   "cell_type": "code",
   "execution_count": 13,
   "metadata": {},
   "outputs": [],
   "source": [
    "import os\n",
    "import time\n",
    "\n",
    "import pandas as pd\n",
    "import psycopg\n",
    "from sentence_transformers import SentenceTransformer"
   ]
  },
  {
   "cell_type": "markdown",
   "metadata": {},
   "source": [
    "## 3. Importer le jeu de données (textes)\n",
    "\n",
    "Le jeu de donnée consiste en **11812 paires de question-réponses**, extraites du dataset **\"piaf v1.2\"**, disponible sur https://www.data.gouv.fr/. L'objectif est de créer des représentations vectorielles pour les questions avec un modèle **Sentence Transformers (sBert)**. Ainsi, nous pourrons effectuer une **recherche sémantique** dans les questions depuis une requète textuelle ou **trouver les questions les plus similaires** entre elles.\n",
    "\n",
    "|  | Description |\n",
    "| --- | --- |\n",
    "| Nom du fichier | question-reponse-sans-texte.csv |\n",
    "| Description du fichier | Extraction des questions-réponses à partir du fichier piaf-v1.2.json pour les visualiser au format CSV |\n",
    "| Colonnes | 2 colonnes: ['question', 'reponse'] |\n",
    "| Lignes | 11812 lignes | \n",
    "| Type MIME | text/csv |\n",
    "| Créée le | 25 mars 2021 |\n",
    "| Taille | 990.9Ko |\n",
    "\n",
    "- https://www.data.gouv.fr/fr/datasets/piaf-le-dataset-francophone-de-questions-reponses/"
   ]
  },
  {
   "cell_type": "code",
   "execution_count": 24,
   "metadata": {},
   "outputs": [],
   "source": [
    "# question-reponse-sans-texte.csv\n",
    "dataset_url = \"https://www.data.gouv.fr/fr/datasets/r/14159082-d1be-417e-a67c-c3c494c7a4ad\"\n",
    "\n",
    "dataset_df = pd.read_csv(dataset_url)"
   ]
  },
  {
   "cell_type": "code",
   "execution_count": 25,
   "metadata": {},
   "outputs": [
    {
     "data": {
      "text/plain": [
       "(11812, 2)"
      ]
     },
     "execution_count": 25,
     "metadata": {},
     "output_type": "execute_result"
    }
   ],
   "source": [
    "dataset_df.shape"
   ]
  },
  {
   "cell_type": "code",
   "execution_count": 19,
   "metadata": {},
   "outputs": [],
   "source": [
    "corpus_questions = dataset_df.loc[:, 'question'].tolist()\n",
    "corpus_reponses = dataset_df.loc[:, 'reponse'].tolist()"
   ]
  },
  {
   "cell_type": "code",
   "execution_count": 26,
   "metadata": {},
   "outputs": [
    {
     "name": "stdout",
     "output_type": "stream",
     "text": [
      "Quel architecte fût à l'origine des plans du Woolworth building? => Cass Gilbert\n",
      "Où se trouvait Franck Woolworth lors de l'inauguration de son immeuble New Yorkais ? => Washington\n",
      "Comment fût payé le bâtiment commandé par Franck Woolworth? => en cash\n",
      "En quelle année ouvrit le Woolworth Building ? => 1913\n",
      "Qui commanda la construction du Woolworth Building ? => Frank Woolworth\n",
      "Quelle femme devint reine aux côtés de Philippe le Bel ? => Jeanne Ire de Navarre\n",
      "Quel créancier du roi fut supprimé en 1312 ? => l'ordre du Temple\n",
      "Quel créancier du roi fut supprimé en 1312 ? => l'ordre du Temple\n",
      "Quelle raison pousse Philippe Le Bel à organiser les premiers Etats généraux ? => pour lever de nouveaux impôts\n",
      "Quel souverain utilise les dévaluations monétaires pour s'enrichir ? => Philippe IV le Bel\n"
     ]
    }
   ],
   "source": [
    "# Afficher les 10 premières paires de question-réponse.\n",
    "for question, reponse in zip(corpus_questions[:10], corpus_reponses[:10]):\n",
    "    print(f\"{question} => {reponse}\")"
   ]
  },
  {
   "cell_type": "markdown",
   "metadata": {},
   "source": [
    "## 4. Encoder les questions avec Sentence Transformers\n",
    "\n",
    "**SentenceTransformers** est un framework Python pour la création de représentations vectorielles de phrases, de textes et d'images.\n",
    "\n",
    "- https://www.sbert.net/index.html\n",
    "- https://huggingface.co/dangvantuan/sentence-camembert-base"
   ]
  },
  {
   "cell_type": "code",
   "execution_count": 23,
   "metadata": {},
   "outputs": [
    {
     "data": {
      "application/vnd.jupyter.widget-view+json": {
       "model_id": "5d3ab14bdad74427a43b256d01cd7a53",
       "version_major": 2,
       "version_minor": 0
      },
      "text/plain": [
       "modules.json:   0%|          | 0.00/229 [00:00<?, ?B/s]"
      ]
     },
     "metadata": {},
     "output_type": "display_data"
    },
    {
     "data": {
      "application/vnd.jupyter.widget-view+json": {
       "model_id": "a71f3a20708a48d290cdf14ec49440af",
       "version_major": 2,
       "version_minor": 0
      },
      "text/plain": [
       "config_sentence_transformers.json:   0%|          | 0.00/123 [00:00<?, ?B/s]"
      ]
     },
     "metadata": {},
     "output_type": "display_data"
    },
    {
     "data": {
      "application/vnd.jupyter.widget-view+json": {
       "model_id": "fbb9ddedd3fc4c86a0fb2ae583aedf99",
       "version_major": 2,
       "version_minor": 0
      },
      "text/plain": [
       "README.md:   0%|          | 0.00/4.25k [00:00<?, ?B/s]"
      ]
     },
     "metadata": {},
     "output_type": "display_data"
    },
    {
     "data": {
      "application/vnd.jupyter.widget-view+json": {
       "model_id": "614ca5b41df84637bf89691e065b33e5",
       "version_major": 2,
       "version_minor": 0
      },
      "text/plain": [
       "sentence_bert_config.json:   0%|          | 0.00/53.0 [00:00<?, ?B/s]"
      ]
     },
     "metadata": {},
     "output_type": "display_data"
    },
    {
     "data": {
      "application/vnd.jupyter.widget-view+json": {
       "model_id": "e9d93d2be87a43a9b1373855a6a783c1",
       "version_major": 2,
       "version_minor": 0
      },
      "text/plain": [
       "config.json:   0%|          | 0.00/727 [00:00<?, ?B/s]"
      ]
     },
     "metadata": {},
     "output_type": "display_data"
    },
    {
     "data": {
      "application/vnd.jupyter.widget-view+json": {
       "model_id": "441c28f135054542a22ce47e816b843f",
       "version_major": 2,
       "version_minor": 0
      },
      "text/plain": [
       "pytorch_model.bin:   0%|          | 0.00/443M [00:00<?, ?B/s]"
      ]
     },
     "metadata": {},
     "output_type": "display_data"
    },
    {
     "data": {
      "application/vnd.jupyter.widget-view+json": {
       "model_id": "ae0c1ab14c19444bb113fe97b841086a",
       "version_major": 2,
       "version_minor": 0
      },
      "text/plain": [
       "tokenizer_config.json:   0%|          | 0.00/463 [00:00<?, ?B/s]"
      ]
     },
     "metadata": {},
     "output_type": "display_data"
    },
    {
     "data": {
      "application/vnd.jupyter.widget-view+json": {
       "model_id": "25feadfad3414efca88f5070cae6a354",
       "version_major": 2,
       "version_minor": 0
      },
      "text/plain": [
       "sentencepiece.bpe.model:   0%|          | 0.00/811k [00:00<?, ?B/s]"
      ]
     },
     "metadata": {},
     "output_type": "display_data"
    },
    {
     "data": {
      "application/vnd.jupyter.widget-view+json": {
       "model_id": "c33c81058ab94595ac657290dbc3c9d5",
       "version_major": 2,
       "version_minor": 0
      },
      "text/plain": [
       "tokenizer.json:   0%|          | 0.00/1.40M [00:00<?, ?B/s]"
      ]
     },
     "metadata": {},
     "output_type": "display_data"
    },
    {
     "data": {
      "application/vnd.jupyter.widget-view+json": {
       "model_id": "2a6067afead1495d9759a2b52d0e5381",
       "version_major": 2,
       "version_minor": 0
      },
      "text/plain": [
       "special_tokens_map.json:   0%|          | 0.00/298 [00:00<?, ?B/s]"
      ]
     },
     "metadata": {},
     "output_type": "display_data"
    },
    {
     "data": {
      "application/vnd.jupyter.widget-view+json": {
       "model_id": "1f9baf117db44554b582247258e3fb5f",
       "version_major": 2,
       "version_minor": 0
      },
      "text/plain": [
       "1_Pooling/config.json:   0%|          | 0.00/190 [00:00<?, ?B/s]"
      ]
     },
     "metadata": {},
     "output_type": "display_data"
    }
   ],
   "source": [
    "# Modèle Sentence Transformer pour l'encodage du jeu de données ou de la requète de recherche sémantique\n",
    "# Modèle pré-entraîné d'encodage de textes en français\n",
    "model_name = \"dangvantuan/sentence-camembert-base\" # vector size = 768\n",
    "model = SentenceTransformer(model_name, device='cuda')"
   ]
  },
  {
   "cell_type": "code",
   "execution_count": 31,
   "metadata": {},
   "outputs": [
    {
     "data": {
      "application/vnd.jupyter.widget-view+json": {
       "model_id": "aa4de183759e4579a37e9fd74175f2b7",
       "version_major": 2,
       "version_minor": 0
      },
      "text/plain": [
       "Batches:   0%|          | 0/370 [00:00<?, ?it/s]"
      ]
     },
     "metadata": {},
     "output_type": "display_data"
    }
   ],
   "source": [
    "embeddings_questions = model.encode(corpus_questions, show_progress_bar=True).tolist()"
   ]
  },
  {
   "cell_type": "markdown",
   "metadata": {},
   "source": [
    "## 5. Créer une table 'piaf' dans la BDD"
   ]
  },
  {
   "cell_type": "markdown",
   "metadata": {},
   "source": [
    "### Connexion à la base de données avec Psycopg\n",
    "\n",
    "- https://www.psycopg.org/psycopg3/docs/basic/usage.html"
   ]
  },
  {
   "cell_type": "code",
   "execution_count": 33,
   "metadata": {},
   "outputs": [],
   "source": [
    "# DEFINE THE DATABASE CREDENTIALS\n",
    "user = 'testuser'\n",
    "password = 'testpwd'\n",
    "host = 'localhost'\n",
    "port = 5432\n",
    "database = 'vectordb'\n",
    "\n",
    "db_url = f\"postgresql://{user}:{password}@{host}:{port}/{database}\""
   ]
  },
  {
   "cell_type": "markdown",
   "metadata": {},
   "source": [
    "### Effacer la table pour éviter d'ajouter des lignes en double"
   ]
  },
  {
   "cell_type": "code",
   "execution_count": 34,
   "metadata": {},
   "outputs": [],
   "source": [
    "# Connect to an existing database\n",
    "with psycopg.connect(conninfo=db_url) as conn:\n",
    "    # Open a cursor to perform database operations\n",
    "    with conn.cursor() as cur:\n",
    "        # Execute a command: this creates a new table\n",
    "        cur.execute(\"\"\"\n",
    "            DROP TABLE piaf; \n",
    "            \"\"\")\n",
    "        # Make the changes to the database persistent\n",
    "        conn.commit()"
   ]
  },
  {
   "cell_type": "markdown",
   "metadata": {},
   "source": [
    "### Création de la table"
   ]
  },
  {
   "cell_type": "code",
   "execution_count": 35,
   "metadata": {},
   "outputs": [],
   "source": [
    "# Connect to an existing database\n",
    "with psycopg.connect(conninfo=db_url) as conn:\n",
    "    # Open a cursor to perform database operations\n",
    "    with conn.cursor() as cur:\n",
    "        # Execute a command: this creates a new table\n",
    "        cur.execute(\"\"\"\n",
    "            CREATE TABLE IF NOT EXISTS piaf (\n",
    "                id serial PRIMARY KEY,\n",
    "                question text NOT NULL,\n",
    "                reponse text NOT NULL,\n",
    "                embedding vector(768) NOT NULL,\n",
    "                created_at timestamptz DEFAULT now()\n",
    "                );\n",
    "            \"\"\")\n",
    "        # Make the changes to the database persistent\n",
    "        conn.commit()"
   ]
  },
  {
   "cell_type": "markdown",
   "metadata": {},
   "source": [
    "## 6. Sauvegarder les données et les vecteurs dans la BDD"
   ]
  },
  {
   "cell_type": "code",
   "execution_count": 36,
   "metadata": {},
   "outputs": [
    {
     "name": "stdout",
     "output_type": "stream",
     "text": [
      "CPU times: user 18.6 s, sys: 539 ms, total: 19.1 s\n",
      "Wall time: 28.8 s\n"
     ]
    }
   ],
   "source": [
    "%%time\n",
    "with psycopg.connect(conninfo=db_url) as conn:\n",
    "    # Open a cursor to perform database operations\n",
    "    with conn.cursor() as cur:\n",
    "        # Execute a command\n",
    "        for question, reponse, embedding in zip(corpus_questions, corpus_reponses, embeddings_questions):\n",
    "            cur.execute(\"\"\"INSERT INTO piaf (question, reponse, embedding) VALUES (%s, %s, %s);\"\"\", (question, reponse, embedding))\n",
    "        # Make the changes to the database persistent\n",
    "        conn.commit()"
   ]
  },
  {
   "cell_type": "markdown",
   "metadata": {},
   "source": [
    "## 7. Utiliser la recherche vectorielle "
   ]
  },
  {
   "cell_type": "markdown",
   "metadata": {},
   "source": [
    "- https://huggingface.co/sentence-transformers/quora-distilbert-multilingual"
   ]
  },
  {
   "cell_type": "markdown",
   "metadata": {},
   "source": [
    "### Rechercher par requète textuelle"
   ]
  },
  {
   "cell_type": "code",
   "execution_count": 43,
   "metadata": {},
   "outputs": [
    {
     "data": {
      "application/vnd.jupyter.widget-view+json": {
       "model_id": "a7513a2c27ce4160a7f71fad563636e8",
       "version_major": 2,
       "version_minor": 0
      },
      "text/plain": [
       "Batches:   0%|          | 0/1 [00:00<?, ?it/s]"
      ]
     },
     "metadata": {},
     "output_type": "display_data"
    },
    {
     "name": "stdout",
     "output_type": "stream",
     "text": [
      "CPU times: user 54.7 ms, sys: 4.07 ms, total: 58.8 ms\n",
      "Wall time: 56.6 ms\n"
     ]
    }
   ],
   "source": [
    "%%time\n",
    "query = \"quelle est la date de la libération ?\"\n",
    "\n",
    "# Encoder la requète avec Sentence Transformers\n",
    "embedding_query = model.encode(query, show_progress_bar=True).tolist()"
   ]
  },
  {
   "cell_type": "code",
   "execution_count": 44,
   "metadata": {},
   "outputs": [
    {
     "name": "stdout",
     "output_type": "stream",
     "text": [
      "id : 7495 | score : 0.7975 | Question : Quelle est la date de la libération de Paris ? | Réponse : 25 août 1944\n",
      "id : 3762 | score : 0.7365 | Question : Quelle est la date de l’inauguration ? | Réponse : 11 octobre 1854\n",
      "id : 3763 | score : 0.7365 | Question : Quelle est la date de l’inauguration ? | Réponse : le 11 octobre 1854\n",
      "id : 10373 | score : 0.7156 | Question : A quelle date ? | Réponse : 28 septembre 1746\n",
      "id : 2754 | score : 0.7 | Question : Quelles est la date de création de la réserve ? | Réponse : 1991\n",
      "id : 2755 | score : 0.7 | Question : Quelles est la date de création de la réserve ? | Réponse : en 1991\n",
      "id : 4156 | score : 0.6995 | Question : quelle est la date de la réforme? | Réponse : 1995\n",
      "id : 4155 | score : 0.6995 | Question : quelle est la date de la réforme? | Réponse : 1995\n",
      "id : 9578 | score : 0.6947 | Question : Quelle est sa date de sortie? | Réponse : 1995\n",
      "id : 10037 | score : 0.6606 | Question : Quelle est la date de création du Comité? | Réponse : 18 décembre 2012\n",
      "CPU times: user 9.12 ms, sys: 0 ns, total: 9.12 ms\n",
      "Wall time: 60.1 ms\n"
     ]
    }
   ],
   "source": [
    "%%time\n",
    "# Connect to an existing database\n",
    "with psycopg.connect(conninfo=db_url) as conn:\n",
    "    # Open a cursor to perform database operations\n",
    "    with conn.cursor() as cur:\n",
    "        # Execute a command: this creates a new table\n",
    "        res = cur.execute(\"\"\"\n",
    "            SELECT\n",
    "                id,\n",
    "                1 - (embedding <=> %s) AS cosine_similarity,\n",
    "                question,\n",
    "                reponse\n",
    "            FROM piaf ORDER BY cosine_similarity DESC LIMIT 10;\n",
    "        \"\"\", (str(embedding_query), )).fetchall()\n",
    "        for row in res:\n",
    "            print(f\"id : {row[0]} | score : {round(row[1], 4)} | Question : {row[2]} | Réponse : {row[3]}\")"
   ]
  },
  {
   "cell_type": "code",
   "execution_count": 45,
   "metadata": {},
   "outputs": [],
   "source": [
    "# Retourner les résultats dans une DataFrame\n",
    "def query_to_dataframe(query, column_names):\n",
    "\n",
    "    # Connect to an existing database\n",
    "    with psycopg.connect(conninfo=db_url) as conn:\n",
    "        # Open a cursor to perform database operations\n",
    "        with conn.cursor() as cur:\n",
    "            embeddings_query = model.encode(query).tolist()\n",
    "            # Execute a command: this creates a new table\n",
    "            res = cur.execute(\"\"\"\n",
    "                SELECT\n",
    "                    id,\n",
    "                    1 - (embedding <=> %s) AS cosine_similarity,\n",
    "                    question,\n",
    "                    reponse\n",
    "                FROM piaf ORDER BY cosine_similarity DESC LIMIT 10;\n",
    "            \"\"\", (str(embeddings_query), )).fetchall()\n",
    "    res_df = pd.DataFrame(res, columns=column_names)\n",
    "    return res_df"
   ]
  },
  {
   "cell_type": "code",
   "execution_count": 46,
   "metadata": {},
   "outputs": [
    {
     "name": "stdout",
     "output_type": "stream",
     "text": [
      "CPU times: user 50.2 ms, sys: 0 ns, total: 50.2 ms\n",
      "Wall time: 96.9 ms\n"
     ]
    },
    {
     "data": {
      "text/html": [
       "<div>\n",
       "<style scoped>\n",
       "    .dataframe tbody tr th:only-of-type {\n",
       "        vertical-align: middle;\n",
       "    }\n",
       "\n",
       "    .dataframe tbody tr th {\n",
       "        vertical-align: top;\n",
       "    }\n",
       "\n",
       "    .dataframe thead th {\n",
       "        text-align: right;\n",
       "    }\n",
       "</style>\n",
       "<table border=\"1\" class=\"dataframe\">\n",
       "  <thead>\n",
       "    <tr style=\"text-align: right;\">\n",
       "      <th></th>\n",
       "      <th>id</th>\n",
       "      <th>cosine_similarity</th>\n",
       "      <th>question</th>\n",
       "      <th>reponse</th>\n",
       "    </tr>\n",
       "  </thead>\n",
       "  <tbody>\n",
       "    <tr>\n",
       "      <th>0</th>\n",
       "      <td>7495</td>\n",
       "      <td>0.809619</td>\n",
       "      <td>Quelle est la date de la libération de Paris ?</td>\n",
       "      <td>25 août 1944</td>\n",
       "    </tr>\n",
       "    <tr>\n",
       "      <th>1</th>\n",
       "      <td>3763</td>\n",
       "      <td>0.740143</td>\n",
       "      <td>Quelle est la date de l’inauguration ?</td>\n",
       "      <td>le 11 octobre 1854</td>\n",
       "    </tr>\n",
       "    <tr>\n",
       "      <th>2</th>\n",
       "      <td>3762</td>\n",
       "      <td>0.740143</td>\n",
       "      <td>Quelle est la date de l’inauguration ?</td>\n",
       "      <td>11 octobre 1854</td>\n",
       "    </tr>\n",
       "    <tr>\n",
       "      <th>3</th>\n",
       "      <td>10373</td>\n",
       "      <td>0.723416</td>\n",
       "      <td>A quelle date ?</td>\n",
       "      <td>28 septembre 1746</td>\n",
       "    </tr>\n",
       "    <tr>\n",
       "      <th>4</th>\n",
       "      <td>4155</td>\n",
       "      <td>0.707283</td>\n",
       "      <td>quelle est la date de la réforme?</td>\n",
       "      <td>1995</td>\n",
       "    </tr>\n",
       "    <tr>\n",
       "      <th>5</th>\n",
       "      <td>4156</td>\n",
       "      <td>0.707283</td>\n",
       "      <td>quelle est la date de la réforme?</td>\n",
       "      <td>1995</td>\n",
       "    </tr>\n",
       "    <tr>\n",
       "      <th>6</th>\n",
       "      <td>2754</td>\n",
       "      <td>0.698089</td>\n",
       "      <td>Quelles est la date de création de la réserve ?</td>\n",
       "      <td>1991</td>\n",
       "    </tr>\n",
       "    <tr>\n",
       "      <th>7</th>\n",
       "      <td>2755</td>\n",
       "      <td>0.698089</td>\n",
       "      <td>Quelles est la date de création de la réserve ?</td>\n",
       "      <td>en 1991</td>\n",
       "    </tr>\n",
       "    <tr>\n",
       "      <th>8</th>\n",
       "      <td>9578</td>\n",
       "      <td>0.695604</td>\n",
       "      <td>Quelle est sa date de sortie?</td>\n",
       "      <td>1995</td>\n",
       "    </tr>\n",
       "    <tr>\n",
       "      <th>9</th>\n",
       "      <td>10448</td>\n",
       "      <td>0.665852</td>\n",
       "      <td>Quelle date pour la bataille ?</td>\n",
       "      <td>24 mars 1793</td>\n",
       "    </tr>\n",
       "  </tbody>\n",
       "</table>\n",
       "</div>"
      ],
      "text/plain": [
       "      id  cosine_similarity                                         question  \\\n",
       "0   7495           0.809619   Quelle est la date de la libération de Paris ?   \n",
       "1   3763           0.740143           Quelle est la date de l’inauguration ?   \n",
       "2   3762           0.740143           Quelle est la date de l’inauguration ?   \n",
       "3  10373           0.723416                                  A quelle date ?   \n",
       "4   4155           0.707283                quelle est la date de la réforme?   \n",
       "5   4156           0.707283                quelle est la date de la réforme?   \n",
       "6   2754           0.698089  Quelles est la date de création de la réserve ?   \n",
       "7   2755           0.698089  Quelles est la date de création de la réserve ?   \n",
       "8   9578           0.695604                    Quelle est sa date de sortie?   \n",
       "9  10448           0.665852                   Quelle date pour la bataille ?   \n",
       "\n",
       "              reponse  \n",
       "0        25 août 1944  \n",
       "1  le 11 octobre 1854  \n",
       "2     11 octobre 1854  \n",
       "3   28 septembre 1746  \n",
       "4                1995  \n",
       "5                1995  \n",
       "6                1991  \n",
       "7             en 1991  \n",
       "8                1995  \n",
       "9        24 mars 1793  "
      ]
     },
     "execution_count": 46,
     "metadata": {},
     "output_type": "execute_result"
    }
   ],
   "source": [
    "%%time\n",
    "# Cherchez une question en changeant cette requète\n",
    "query = \"Quelle est la date de la libération ?\"\n",
    "query_to_dataframe(query, ['id', 'cosine_similarity', 'question', 'reponse'])"
   ]
  },
  {
   "cell_type": "markdown",
   "metadata": {},
   "source": [
    "### Les plus proches voisins d'une ligne (id aléatoire)\n",
    "\n",
    "Résultats : \n",
    "- La première ligne est une ligne choisie au hasard dans la base de donnée.\n",
    "- Les lignes suivantes sont les lignes les plus proches sémantiquement, par ordre décroissant de similarité cosinus."
   ]
  },
  {
   "cell_type": "code",
   "execution_count": 47,
   "metadata": {},
   "outputs": [
    {
     "name": "stdout",
     "output_type": "stream",
     "text": [
      "Random id : 952\n",
      "\n"
     ]
    },
    {
     "data": {
      "text/html": [
       "<div>\n",
       "<style scoped>\n",
       "    .dataframe tbody tr th:only-of-type {\n",
       "        vertical-align: middle;\n",
       "    }\n",
       "\n",
       "    .dataframe tbody tr th {\n",
       "        vertical-align: top;\n",
       "    }\n",
       "\n",
       "    .dataframe thead th {\n",
       "        text-align: right;\n",
       "    }\n",
       "</style>\n",
       "<table border=\"1\" class=\"dataframe\">\n",
       "  <thead>\n",
       "    <tr style=\"text-align: right;\">\n",
       "      <th></th>\n",
       "      <th>id</th>\n",
       "      <th>cosine_similarity</th>\n",
       "      <th>question</th>\n",
       "      <th>reponse</th>\n",
       "    </tr>\n",
       "  </thead>\n",
       "  <tbody>\n",
       "    <tr>\n",
       "      <th>0</th>\n",
       "      <td>952</td>\n",
       "      <td>1.000000</td>\n",
       "      <td>Quel titre remporte le FC Internazionale Milan...</td>\n",
       "      <td>le championnat lombard</td>\n",
       "    </tr>\n",
       "    <tr>\n",
       "      <th>1</th>\n",
       "      <td>951</td>\n",
       "      <td>1.000000</td>\n",
       "      <td>Quel titre remporte le FC Internazionale Milan...</td>\n",
       "      <td>le championnat lombard</td>\n",
       "    </tr>\n",
       "    <tr>\n",
       "      <th>2</th>\n",
       "      <td>965</td>\n",
       "      <td>0.807295</td>\n",
       "      <td>Quel club italien a remporté plus de titre que...</td>\n",
       "      <td>la Juventus</td>\n",
       "    </tr>\n",
       "    <tr>\n",
       "      <th>3</th>\n",
       "      <td>1371</td>\n",
       "      <td>0.773242</td>\n",
       "      <td>Comment le FC Internazionale Milano obtient il...</td>\n",
       "      <td>sur tapis vert</td>\n",
       "    </tr>\n",
       "    <tr>\n",
       "      <th>4</th>\n",
       "      <td>950</td>\n",
       "      <td>0.753307</td>\n",
       "      <td>Quand le FC Internazionale Milano est il champ...</td>\n",
       "      <td>en 1920</td>\n",
       "    </tr>\n",
       "    <tr>\n",
       "      <th>5</th>\n",
       "      <td>1370</td>\n",
       "      <td>0.735861</td>\n",
       "      <td>Quand s'achève la série de victoires obtenues ...</td>\n",
       "      <td>le 28 février 2007</td>\n",
       "    </tr>\n",
       "    <tr>\n",
       "      <th>6</th>\n",
       "      <td>1383</td>\n",
       "      <td>0.734453</td>\n",
       "      <td>Combien de fois le FC Internazionale Milano re...</td>\n",
       "      <td>à deux reprises</td>\n",
       "    </tr>\n",
       "    <tr>\n",
       "      <th>7</th>\n",
       "      <td>1367</td>\n",
       "      <td>0.704656</td>\n",
       "      <td>Quel était le record du nombre de victoires su...</td>\n",
       "      <td>11 victoires</td>\n",
       "    </tr>\n",
       "    <tr>\n",
       "      <th>8</th>\n",
       "      <td>1366</td>\n",
       "      <td>0.697360</td>\n",
       "      <td>Quelle équipe détenait le record du nombre de ...</td>\n",
       "      <td>la Roma</td>\n",
       "    </tr>\n",
       "    <tr>\n",
       "      <th>9</th>\n",
       "      <td>1373</td>\n",
       "      <td>0.684866</td>\n",
       "      <td>Combien de temps s'est écoulé entre le dernier...</td>\n",
       "      <td>quinze ans</td>\n",
       "    </tr>\n",
       "    <tr>\n",
       "      <th>10</th>\n",
       "      <td>1372</td>\n",
       "      <td>0.684866</td>\n",
       "      <td>Combien de temps s'est écoulé entre le dernier...</td>\n",
       "      <td>quinze ans</td>\n",
       "    </tr>\n",
       "    <tr>\n",
       "      <th>11</th>\n",
       "      <td>947</td>\n",
       "      <td>0.674901</td>\n",
       "      <td>Quelle équipe affronte le FC Internazionale Mi...</td>\n",
       "      <td>l'US Livourne</td>\n",
       "    </tr>\n",
       "    <tr>\n",
       "      <th>12</th>\n",
       "      <td>1369</td>\n",
       "      <td>0.664042</td>\n",
       "      <td>Contre quelle équipe s'achève la série de vict...</td>\n",
       "      <td>l'Udinese</td>\n",
       "    </tr>\n",
       "    <tr>\n",
       "      <th>13</th>\n",
       "      <td>964</td>\n",
       "      <td>0.654002</td>\n",
       "      <td>Combien de fois le championnat d'Italie a-t-il...</td>\n",
       "      <td>dix-huit</td>\n",
       "    </tr>\n",
       "    <tr>\n",
       "      <th>14</th>\n",
       "      <td>963</td>\n",
       "      <td>0.654002</td>\n",
       "      <td>Combien de fois le championnat d'Italie a-t-il...</td>\n",
       "      <td>dix-huit</td>\n",
       "    </tr>\n",
       "    <tr>\n",
       "      <th>15</th>\n",
       "      <td>1004</td>\n",
       "      <td>0.646810</td>\n",
       "      <td>Quel est le classement du FC Internazionale Mi...</td>\n",
       "      <td>la troisième place</td>\n",
       "    </tr>\n",
       "    <tr>\n",
       "      <th>16</th>\n",
       "      <td>1003</td>\n",
       "      <td>0.646810</td>\n",
       "      <td>Quel est le classement du FC Internazionale Mi...</td>\n",
       "      <td>la troisième place</td>\n",
       "    </tr>\n",
       "    <tr>\n",
       "      <th>17</th>\n",
       "      <td>1002</td>\n",
       "      <td>0.639556</td>\n",
       "      <td>Avec quel écart le Milan AC remporte-t-il le c...</td>\n",
       "      <td>un seul point</td>\n",
       "    </tr>\n",
       "    <tr>\n",
       "      <th>18</th>\n",
       "      <td>1387</td>\n",
       "      <td>0.633830</td>\n",
       "      <td>A quand remontait la dernière victoire du FC I...</td>\n",
       "      <td>1993</td>\n",
       "    </tr>\n",
       "    <tr>\n",
       "      <th>19</th>\n",
       "      <td>1388</td>\n",
       "      <td>0.633830</td>\n",
       "      <td>A quand remontait la dernière victoire du FC I...</td>\n",
       "      <td>1993</td>\n",
       "    </tr>\n",
       "  </tbody>\n",
       "</table>\n",
       "</div>"
      ],
      "text/plain": [
       "      id  cosine_similarity  \\\n",
       "0    952           1.000000   \n",
       "1    951           1.000000   \n",
       "2    965           0.807295   \n",
       "3   1371           0.773242   \n",
       "4    950           0.753307   \n",
       "5   1370           0.735861   \n",
       "6   1383           0.734453   \n",
       "7   1367           0.704656   \n",
       "8   1366           0.697360   \n",
       "9   1373           0.684866   \n",
       "10  1372           0.684866   \n",
       "11   947           0.674901   \n",
       "12  1369           0.664042   \n",
       "13   964           0.654002   \n",
       "14   963           0.654002   \n",
       "15  1004           0.646810   \n",
       "16  1003           0.646810   \n",
       "17  1002           0.639556   \n",
       "18  1387           0.633830   \n",
       "19  1388           0.633830   \n",
       "\n",
       "                                             question                 reponse  \n",
       "0   Quel titre remporte le FC Internazionale Milan...  le championnat lombard  \n",
       "1   Quel titre remporte le FC Internazionale Milan...  le championnat lombard  \n",
       "2   Quel club italien a remporté plus de titre que...             la Juventus  \n",
       "3   Comment le FC Internazionale Milano obtient il...          sur tapis vert  \n",
       "4   Quand le FC Internazionale Milano est il champ...                 en 1920  \n",
       "5   Quand s'achève la série de victoires obtenues ...      le 28 février 2007  \n",
       "6   Combien de fois le FC Internazionale Milano re...         à deux reprises  \n",
       "7   Quel était le record du nombre de victoires su...            11 victoires  \n",
       "8   Quelle équipe détenait le record du nombre de ...                 la Roma  \n",
       "9   Combien de temps s'est écoulé entre le dernier...              quinze ans  \n",
       "10  Combien de temps s'est écoulé entre le dernier...              quinze ans  \n",
       "11  Quelle équipe affronte le FC Internazionale Mi...           l'US Livourne  \n",
       "12  Contre quelle équipe s'achève la série de vict...               l'Udinese  \n",
       "13  Combien de fois le championnat d'Italie a-t-il...                dix-huit  \n",
       "14  Combien de fois le championnat d'Italie a-t-il...                dix-huit  \n",
       "15  Quel est le classement du FC Internazionale Mi...      la troisième place  \n",
       "16  Quel est le classement du FC Internazionale Mi...      la troisième place  \n",
       "17  Avec quel écart le Milan AC remporte-t-il le c...           un seul point  \n",
       "18  A quand remontait la dernière victoire du FC I...                    1993  \n",
       "19  A quand remontait la dernière victoire du FC I...                    1993  "
      ]
     },
     "execution_count": 47,
     "metadata": {},
     "output_type": "execute_result"
    }
   ],
   "source": [
    "import random\n",
    "rand_id = random.randint(0,11812)\n",
    "\n",
    "print(f\"Random id : {rand_id}\")\n",
    "print()\n",
    "\n",
    "# Connect to an existing database\n",
    "with psycopg.connect(conninfo=db_url) as conn:\n",
    "    # Open a cursor to perform database operations\n",
    "    with conn.cursor() as cur:\n",
    "\n",
    "        res = cur.execute(\"\"\"\n",
    "            SELECT\n",
    "            id,\n",
    "            1 - (embedding <=> (SELECT embedding FROM piaf WHERE id = %s)) AS cosine_similarity,\n",
    "            question,\n",
    "            reponse          \n",
    "            FROM piaf\n",
    "            ORDER BY cosine_similarity DESC LIMIT 20;\n",
    "        \"\"\", (rand_id, )).fetchall()\n",
    "\n",
    "        res_df = pd.DataFrame(res, columns=['id', 'cosine_similarity', 'question', 'reponse'])\n",
    "res_df"
   ]
  }
 ],
 "metadata": {
  "kernelspec": {
   "display_name": ".venv",
   "language": "python",
   "name": "python3"
  },
  "language_info": {
   "codemirror_mode": {
    "name": "ipython",
    "version": 3
   },
   "file_extension": ".py",
   "mimetype": "text/x-python",
   "name": "python",
   "nbconvert_exporter": "python",
   "pygments_lexer": "ipython3",
   "version": "3.10.12"
  }
 },
 "nbformat": 4,
 "nbformat_minor": 2
}
