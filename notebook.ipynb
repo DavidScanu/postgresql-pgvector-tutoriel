{
 "cells": [
  {
   "cell_type": "markdown",
   "metadata": {},
   "source": [
    "# Comment créer une base de données vectorielle avec PostgreSLQ et pgvector\n",
    "\n",
    "## Etapes\n",
    "\n",
    "1. Créer la BDD PostgreSQL + pgvector dans un conteneur Docker\n",
    "2. Se connecter avec psql (pour vérification)\n",
    "3. Importer les données (textes)\n",
    "4. Créer les vecteurs avec Sentence Transformers\n",
    "5. Créer une table 'quora' dans la BDD\n",
    "6. Sauvegarder les données et les vecteurs dans la BDD\n",
    "7. Utiliser la recherche vectorielle "
   ]
  },
  {
   "cell_type": "markdown",
   "metadata": {},
   "source": [
    "## 1. Créer la BDD PostgreSQL + pgvector avec dans un conteneur \n",
    "\n",
    "### Docker-compose.yaml\n",
    "\n",
    "Tout d'abord, nous devons créer un fichier `docker-compose.yml` avec les services nécessaires.\n",
    "\n",
    "Dans ce fichier, nous définissons un service appelé `db` qui est basé sur l'image Docker `pgvector/pgvector:pg16`. Le service expose le port `5432` pour interagir avec la base de données et configure des variables d'environnement pour le nom de la base de données, l'utilisateur, le mot de passe et la méthode d'authentification. De plus, nous montons un fichier `init.sql` dans le répertoire `/docker-entrypoint-initdb.d` à l'intérieur du conteneur à des fins d'initialisation.\n",
    "\n",
    "### Fichier init.sql\n",
    "\n",
    "Dans ce script `init.sql`, nous activons l'extension `pgvector`, si elle n'existe pas déjà. Ensuite, nous créons une table appelée `embedding` avec les colonnes : `id`, `embedding`, `text` et `created_at`.\n",
    "\n",
    "### Lancer le conteneur\n",
    "\n",
    "```\n",
    "docker-compose up -d\n",
    "```\n",
    "\n",
    "Cette commande créera un conteneur Docker avec le serveur PostgreSQL et l'extension `pgvector` déjà installés et configurés, en fonction des spécifications du fichier `docker-compose.yml`.\n",
    "\n",
    "\n",
    "#### Obsolète \n",
    "\n",
    "Créer un base de données PostgreSQL avec `docker run`\n",
    "\n",
    "```\n",
    "docker run -d --name postgresCont -p 5432:5432 -e POSTGRES_PASSWORD=pass123 postgres\n",
    "docker run -d --name postgresCont -p 5432:5432 -e POSTGRES_PASSWORD=pass123 pgvector/pgvector:pg16\n",
    "docker exec -it postgresCont bash\n",
    "psql -h localhost -U postgres\n",
    "```"
   ]
  },
  {
   "cell_type": "markdown",
   "metadata": {},
   "source": [
    "## 2. Se connecter avec psql\n",
    "\n",
    "### Aller dans le conteneur\n",
    "\n",
    "`docker exec -it <container id> bash`\n",
    "\n",
    "### Se conncter à la base de donnée avec `psql`\n",
    "\n",
    "`psql -h localhost -U postgres -d vectordb`"
   ]
  },
  {
   "cell_type": "code",
   "execution_count": null,
   "metadata": {},
   "outputs": [],
   "source": [
    "# ! pip install sentence-transformers \"psycopg[binary]\" --quiet"
   ]
  },
  {
   "cell_type": "markdown",
   "metadata": {},
   "source": [
    "## 3. Importer les phrases et les vecteurs"
   ]
  },
  {
   "cell_type": "code",
   "execution_count": 86,
   "metadata": {},
   "outputs": [],
   "source": [
    "import os\n",
    "import pickle\n",
    "import time\n",
    "import pandas as pd\n",
    "\n",
    "dataset_url = \"https://www.data.gouv.fr/fr/datasets/r/14159082-d1be-417e-a67c-c3c494c7a4ad\"\n",
    "\n",
    "dataset_df = pd.read_csv(dataset_url)"
   ]
  },
  {
   "cell_type": "code",
   "execution_count": 93,
   "metadata": {},
   "outputs": [
    {
     "data": {
      "text/plain": [
       "(11812, 2)"
      ]
     },
     "execution_count": 93,
     "metadata": {},
     "output_type": "execute_result"
    }
   ],
   "source": [
    "dataset_df.shape"
   ]
  },
  {
   "cell_type": "code",
   "execution_count": 149,
   "metadata": {},
   "outputs": [],
   "source": [
    "corpus_questions = dataset_df.loc[:, 'question'].tolist()\n",
    "corpus_reponses = dataset_df.loc[:, 'reponse'].tolist()"
   ]
  },
  {
   "cell_type": "code",
   "execution_count": 150,
   "metadata": {},
   "outputs": [
    {
     "name": "stdout",
     "output_type": "stream",
     "text": [
      "Question : Quel architecte fût à l'origine des plans du Woolworth building? | Réponse : Cass Gilbert\n",
      "Question : Où se trouvait Franck Woolworth lors de l'inauguration de son immeuble New Yorkais ? | Réponse : Washington\n",
      "Question : Comment fût payé le bâtiment commandé par Franck Woolworth? | Réponse : en cash\n",
      "Question : En quelle année ouvrit le Woolworth Building ? | Réponse : 1913\n",
      "Question : Qui commanda la construction du Woolworth Building ? | Réponse : Frank Woolworth\n",
      "Question : Quelle femme devint reine aux côtés de Philippe le Bel ? | Réponse : Jeanne Ire de Navarre\n",
      "Question : Quel créancier du roi fut supprimé en 1312 ? | Réponse : l'ordre du Temple\n",
      "Question : Quel créancier du roi fut supprimé en 1312 ? | Réponse : l'ordre du Temple\n",
      "Question : Quelle raison pousse Philippe Le Bel à organiser les premiers Etats généraux ? | Réponse : pour lever de nouveaux impôts\n",
      "Question : Quel souverain utilise les dévaluations monétaires pour s'enrichir ? | Réponse : Philippe IV le Bel\n"
     ]
    }
   ],
   "source": [
    "for question, reponse in zip(corpus_questions[:10], corpus_reponses[:10]):\n",
    "    print(f\"Question : {question} | Réponse : {reponse}\")"
   ]
  },
  {
   "cell_type": "markdown",
   "metadata": {},
   "source": [
    "## 4. Encoder les questions avec Sentence Transformers"
   ]
  },
  {
   "cell_type": "code",
   "execution_count": 96,
   "metadata": {},
   "outputs": [
    {
     "data": {
      "application/vnd.jupyter.widget-view+json": {
       "model_id": "6c56998bce8a485caa3c77ae16a8119d",
       "version_major": 2,
       "version_minor": 0
      },
      "text/plain": [
       "Batches:   0%|          | 0/370 [00:00<?, ?it/s]"
      ]
     },
     "metadata": {},
     "output_type": "display_data"
    }
   ],
   "source": [
    "from sentence_transformers import SentenceTransformer\n",
    "\n",
    "model = SentenceTransformer('all-MiniLM-L6-v2', device='cuda')\n",
    "\n",
    "embeddings_questions = model.encode(corpus_questions, show_progress_bar=True).tolist()"
   ]
  },
  {
   "cell_type": "markdown",
   "metadata": {},
   "source": [
    "## 5. Créer une table 'piaf' dans la BDD"
   ]
  },
  {
   "cell_type": "markdown",
   "metadata": {},
   "source": [
    "### Connexion à la base de données avec Psycopg\n",
    "\n",
    "- https://www.psycopg.org/psycopg3/docs/basic/usage.html"
   ]
  },
  {
   "cell_type": "code",
   "execution_count": 97,
   "metadata": {},
   "outputs": [],
   "source": [
    "import psycopg\n",
    "\n",
    "# DEFINE THE DATABASE CREDENTIALS\n",
    "user = 'testuser'\n",
    "password = 'testpwd'\n",
    "host = 'localhost'\n",
    "port = 5432\n",
    "database = 'vectordb'\n",
    "\n",
    "db_url = f\"postgresql://{user}:{password}@{host}:{port}/{database}\""
   ]
  },
  {
   "cell_type": "markdown",
   "metadata": {},
   "source": [
    "### Effacer la table pour éviter d'ajouter des lignes en double"
   ]
  },
  {
   "cell_type": "code",
   "execution_count": null,
   "metadata": {},
   "outputs": [],
   "source": [
    "# Connect to an existing database\n",
    "with psycopg.connect(conninfo=db_url) as conn:\n",
    "    # Open a cursor to perform database operations\n",
    "    with conn.cursor() as cur:\n",
    "        # Execute a command: this creates a new table\n",
    "        cur.execute(\"\"\"\n",
    "            DROP TABLE piaf; \n",
    "            \"\"\")\n",
    "        # Make the changes to the database persistent\n",
    "        conn.commit()"
   ]
  },
  {
   "cell_type": "markdown",
   "metadata": {},
   "source": [
    "### Création de la table"
   ]
  },
  {
   "cell_type": "code",
   "execution_count": 99,
   "metadata": {},
   "outputs": [],
   "source": [
    "# Connect to an existing database\n",
    "with psycopg.connect(conninfo=db_url) as conn:\n",
    "    # Open a cursor to perform database operations\n",
    "    with conn.cursor() as cur:\n",
    "        # Execute a command: this creates a new table\n",
    "        cur.execute(\"\"\"\n",
    "            CREATE TABLE IF NOT EXISTS piaf (\n",
    "                id serial PRIMARY KEY,\n",
    "                question text NOT NULL,\n",
    "                reponse text NOT NULL,\n",
    "                embedding vector(384) NOT NULL,\n",
    "                created_at timestamptz DEFAULT now()\n",
    "                );\n",
    "            \"\"\")\n",
    "        # Make the changes to the database persistent\n",
    "        conn.commit()"
   ]
  },
  {
   "cell_type": "markdown",
   "metadata": {},
   "source": [
    "## 6. Sauvegarder les données et les vecteurs dans la BDD"
   ]
  },
  {
   "cell_type": "code",
   "execution_count": 100,
   "metadata": {},
   "outputs": [],
   "source": [
    "with psycopg.connect(conninfo=db_url) as conn:\n",
    "    # Open a cursor to perform database operations\n",
    "    with conn.cursor() as cur:\n",
    "        # Execute a command\n",
    "        for question, reponse, embedding in zip(corpus_questions, corpus_reponses, embeddings_questions):\n",
    "            cur.execute(\"\"\"INSERT INTO piaf (question, reponse, embedding) VALUES (%s, %s, %s);\"\"\", (question, reponse, embedding))\n",
    "        # Make the changes to the database persistent\n",
    "        conn.commit()"
   ]
  },
  {
   "cell_type": "markdown",
   "metadata": {},
   "source": [
    "## 7. Utiliser la recherche vectorielle "
   ]
  },
  {
   "cell_type": "markdown",
   "metadata": {},
   "source": [
    "- https://huggingface.co/sentence-transformers/quora-distilbert-multilingual"
   ]
  },
  {
   "cell_type": "markdown",
   "metadata": {},
   "source": [
    "### Rechercher par requète textuelle"
   ]
  },
  {
   "cell_type": "code",
   "execution_count": 215,
   "metadata": {},
   "outputs": [
    {
     "data": {
      "application/vnd.jupyter.widget-view+json": {
       "model_id": "36a64ac7a5ee4f9c844476606e321273",
       "version_major": 2,
       "version_minor": 0
      },
      "text/plain": [
       "Batches:   0%|          | 0/1 [00:00<?, ?it/s]"
      ]
     },
     "metadata": {},
     "output_type": "display_data"
    },
    {
     "name": "stdout",
     "output_type": "stream",
     "text": [
      "CPU times: user 30.2 ms, sys: 0 ns, total: 30.2 ms\n",
      "Wall time: 28.3 ms\n"
     ]
    }
   ],
   "source": [
    "%%time\n",
    "query = \"Quelle est la date de la révolution ?\"\n",
    "\n",
    "# Encoder la requète avec Sentence Transformers\n",
    "embedding_query = model.encode(query, show_progress_bar=True).tolist()"
   ]
  },
  {
   "cell_type": "code",
   "execution_count": 216,
   "metadata": {},
   "outputs": [
    {
     "name": "stdout",
     "output_type": "stream",
     "text": [
      "id : 790 | score : 0.8086 | Question : Quelle est la conséquence de la Révolution de 1911 ? | Réponse : la proclamation de la république de Chine\n",
      "id : 3835 | score : 0.7912 | Question : Quel est un des éléments de l'avènement de la révolution ? | Réponse : la baisse des salaires réels\n",
      "id : 4156 | score : 0.7891 | Question : quelle est la date de la réforme? | Réponse : 1995\n",
      "id : 4155 | score : 0.7891 | Question : quelle est la date de la réforme? | Réponse : 1995\n",
      "id : 7495 | score : 0.7807 | Question : Quelle est la date de la libération de Paris ? | Réponse : 25 août 1944\n",
      "id : 3762 | score : 0.7576 | Question : Quelle est la date de l’inauguration ? | Réponse : 11 octobre 1854\n",
      "id : 3763 | score : 0.7576 | Question : Quelle est la date de l’inauguration ? | Réponse : le 11 octobre 1854\n",
      "id : 7246 | score : 0.7532 | Question : De quand date la constitution ? | Réponse : 1974\n",
      "id : 11371 | score : 0.7186 | Question : Quelle est la date exacte du meurtre qui déclencha la guerre ? | Réponse : le 28 juin 1914\n",
      "id : 4256 | score : 0.7066 | Question : Quelle est la date de la reddition de la Grande Kabylie ? | Réponse : juillet 1857\n",
      "CPU times: user 9.44 ms, sys: 422 µs, total: 9.86 ms\n",
      "Wall time: 25.1 ms\n"
     ]
    }
   ],
   "source": [
    "%%time\n",
    "# Connect to an existing database\n",
    "with psycopg.connect(conninfo=db_url) as conn:\n",
    "    # Open a cursor to perform database operations\n",
    "    with conn.cursor() as cur:\n",
    "        # Execute a command: this creates a new table\n",
    "        res = cur.execute(\"\"\"\n",
    "            SELECT\n",
    "                id,\n",
    "                1 - (embedding <=> %s) AS cosine_similarity,\n",
    "                question,\n",
    "                reponse\n",
    "            FROM piaf ORDER BY cosine_similarity DESC LIMIT 10;\n",
    "        \"\"\", (str(embedding_query), )).fetchall()\n",
    "        for row in res:\n",
    "            print(f\"id : {row[0]} | score : {round(row[1], 4)} | Question : {row[2]} | Réponse : {row[3]}\")"
   ]
  },
  {
   "cell_type": "code",
   "execution_count": 217,
   "metadata": {},
   "outputs": [],
   "source": [
    "# Retourner les résultats dans une DataFrame\n",
    "def query_to_dataframe(query, column_names):\n",
    "\n",
    "    # Connect to an existing database\n",
    "    with psycopg.connect(conninfo=db_url) as conn:\n",
    "        # Open a cursor to perform database operations\n",
    "        with conn.cursor() as cur:\n",
    "            embeddings_query = model.encode(query).tolist()\n",
    "            # Execute a command: this creates a new table\n",
    "            res = cur.execute(\"\"\"\n",
    "                SELECT\n",
    "                    id,\n",
    "                    1 - (embedding <=> %s) AS cosine_similarity,\n",
    "                    question,\n",
    "                    reponse\n",
    "                FROM piaf ORDER BY cosine_similarity DESC LIMIT 10;\n",
    "            \"\"\", (str(embeddings_query), )).fetchall()\n",
    "    res_df = pd.DataFrame(res, columns=column_names)\n",
    "    return res_df"
   ]
  },
  {
   "cell_type": "code",
   "execution_count": 218,
   "metadata": {},
   "outputs": [
    {
     "name": "stdout",
     "output_type": "stream",
     "text": [
      "CPU times: user 30.7 ms, sys: 0 ns, total: 30.7 ms\n",
      "Wall time: 47.9 ms\n"
     ]
    },
    {
     "data": {
      "text/html": [
       "<div>\n",
       "<style scoped>\n",
       "    .dataframe tbody tr th:only-of-type {\n",
       "        vertical-align: middle;\n",
       "    }\n",
       "\n",
       "    .dataframe tbody tr th {\n",
       "        vertical-align: top;\n",
       "    }\n",
       "\n",
       "    .dataframe thead th {\n",
       "        text-align: right;\n",
       "    }\n",
       "</style>\n",
       "<table border=\"1\" class=\"dataframe\">\n",
       "  <thead>\n",
       "    <tr style=\"text-align: right;\">\n",
       "      <th></th>\n",
       "      <th>id</th>\n",
       "      <th>cosine_similarity</th>\n",
       "      <th>question</th>\n",
       "      <th>reponse</th>\n",
       "    </tr>\n",
       "  </thead>\n",
       "  <tbody>\n",
       "    <tr>\n",
       "      <th>0</th>\n",
       "      <td>7495</td>\n",
       "      <td>0.898055</td>\n",
       "      <td>Quelle est la date de la libération de Paris ?</td>\n",
       "      <td>25 août 1944</td>\n",
       "    </tr>\n",
       "    <tr>\n",
       "      <th>1</th>\n",
       "      <td>3763</td>\n",
       "      <td>0.759356</td>\n",
       "      <td>Quelle est la date de l’inauguration ?</td>\n",
       "      <td>le 11 octobre 1854</td>\n",
       "    </tr>\n",
       "    <tr>\n",
       "      <th>2</th>\n",
       "      <td>3762</td>\n",
       "      <td>0.759356</td>\n",
       "      <td>Quelle est la date de l’inauguration ?</td>\n",
       "      <td>11 octobre 1854</td>\n",
       "    </tr>\n",
       "    <tr>\n",
       "      <th>3</th>\n",
       "      <td>4155</td>\n",
       "      <td>0.755041</td>\n",
       "      <td>quelle est la date de la réforme?</td>\n",
       "      <td>1995</td>\n",
       "    </tr>\n",
       "    <tr>\n",
       "      <th>4</th>\n",
       "      <td>4156</td>\n",
       "      <td>0.755041</td>\n",
       "      <td>quelle est la date de la réforme?</td>\n",
       "      <td>1995</td>\n",
       "    </tr>\n",
       "    <tr>\n",
       "      <th>5</th>\n",
       "      <td>7810</td>\n",
       "      <td>0.748075</td>\n",
       "      <td>De quand date le début de la domination angevine?</td>\n",
       "      <td>1301</td>\n",
       "    </tr>\n",
       "    <tr>\n",
       "      <th>6</th>\n",
       "      <td>1019</td>\n",
       "      <td>0.746150</td>\n",
       "      <td>Quelle est la date de la fin de la tournée sec...</td>\n",
       "      <td>le 10 juin 2007</td>\n",
       "    </tr>\n",
       "    <tr>\n",
       "      <th>7</th>\n",
       "      <td>4256</td>\n",
       "      <td>0.738092</td>\n",
       "      <td>Quelle est la date de la reddition de la Grand...</td>\n",
       "      <td>juillet 1857</td>\n",
       "    </tr>\n",
       "    <tr>\n",
       "      <th>8</th>\n",
       "      <td>4257</td>\n",
       "      <td>0.738092</td>\n",
       "      <td>Quelle est la date de la reddition de la Grand...</td>\n",
       "      <td>juillet 1857</td>\n",
       "    </tr>\n",
       "    <tr>\n",
       "      <th>9</th>\n",
       "      <td>6857</td>\n",
       "      <td>0.726841</td>\n",
       "      <td>quelle est la date de naissance de cézanne?</td>\n",
       "      <td>19 janvier 1839</td>\n",
       "    </tr>\n",
       "  </tbody>\n",
       "</table>\n",
       "</div>"
      ],
      "text/plain": [
       "     id  cosine_similarity                                           question  \\\n",
       "0  7495           0.898055     Quelle est la date de la libération de Paris ?   \n",
       "1  3763           0.759356             Quelle est la date de l’inauguration ?   \n",
       "2  3762           0.759356             Quelle est la date de l’inauguration ?   \n",
       "3  4155           0.755041                  quelle est la date de la réforme?   \n",
       "4  4156           0.755041                  quelle est la date de la réforme?   \n",
       "5  7810           0.748075  De quand date le début de la domination angevine?   \n",
       "6  1019           0.746150  Quelle est la date de la fin de la tournée sec...   \n",
       "7  4256           0.738092  Quelle est la date de la reddition de la Grand...   \n",
       "8  4257           0.738092  Quelle est la date de la reddition de la Grand...   \n",
       "9  6857           0.726841        quelle est la date de naissance de cézanne?   \n",
       "\n",
       "              reponse  \n",
       "0        25 août 1944  \n",
       "1  le 11 octobre 1854  \n",
       "2     11 octobre 1854  \n",
       "3                1995  \n",
       "4                1995  \n",
       "5                1301  \n",
       "6     le 10 juin 2007  \n",
       "7        juillet 1857  \n",
       "8        juillet 1857  \n",
       "9     19 janvier 1839  "
      ]
     },
     "execution_count": 218,
     "metadata": {},
     "output_type": "execute_result"
    }
   ],
   "source": [
    "%%time\n",
    "# Cherchez une question en changeant cette requète\n",
    "query = \"Quelle est la date de la libération ?\"\n",
    "query_to_dataframe(query, ['id', 'cosine_similarity', 'question', 'reponse'])"
   ]
  },
  {
   "cell_type": "markdown",
   "metadata": {},
   "source": [
    "### Les plus proches voisins d'une ligne (id aléatoire)"
   ]
  },
  {
   "cell_type": "code",
   "execution_count": 219,
   "metadata": {},
   "outputs": [
    {
     "name": "stdout",
     "output_type": "stream",
     "text": [
      "Random id : 1336\n",
      "\n"
     ]
    },
    {
     "data": {
      "text/html": [
       "<div>\n",
       "<style scoped>\n",
       "    .dataframe tbody tr th:only-of-type {\n",
       "        vertical-align: middle;\n",
       "    }\n",
       "\n",
       "    .dataframe tbody tr th {\n",
       "        vertical-align: top;\n",
       "    }\n",
       "\n",
       "    .dataframe thead th {\n",
       "        text-align: right;\n",
       "    }\n",
       "</style>\n",
       "<table border=\"1\" class=\"dataframe\">\n",
       "  <thead>\n",
       "    <tr style=\"text-align: right;\">\n",
       "      <th></th>\n",
       "      <th>id</th>\n",
       "      <th>cosine_similarity</th>\n",
       "      <th>question</th>\n",
       "      <th>reponse</th>\n",
       "    </tr>\n",
       "  </thead>\n",
       "  <tbody>\n",
       "    <tr>\n",
       "      <th>0</th>\n",
       "      <td>1334</td>\n",
       "      <td>1.000000</td>\n",
       "      <td>Quel type de vin accompagne le déjeuner ?</td>\n",
       "      <td>vin rouge produit dans la région du Balaton</td>\n",
       "    </tr>\n",
       "    <tr>\n",
       "      <th>1</th>\n",
       "      <td>1335</td>\n",
       "      <td>1.000000</td>\n",
       "      <td>Quel type de vin accompagne le déjeuner ?</td>\n",
       "      <td>produit dans la région du Balaton ou dans les ...</td>\n",
       "    </tr>\n",
       "    <tr>\n",
       "      <th>2</th>\n",
       "      <td>1336</td>\n",
       "      <td>1.000000</td>\n",
       "      <td>Quel type de vin accompagne le déjeuner ?</td>\n",
       "      <td>vin rouge</td>\n",
       "    </tr>\n",
       "    <tr>\n",
       "      <th>3</th>\n",
       "      <td>1330</td>\n",
       "      <td>0.768863</td>\n",
       "      <td>Où est produit le vin servi avec le déjeuner ?</td>\n",
       "      <td>dans la région du Balaton ou dans les massifs ...</td>\n",
       "    </tr>\n",
       "    <tr>\n",
       "      <th>4</th>\n",
       "      <td>8575</td>\n",
       "      <td>0.711023</td>\n",
       "      <td>Quel est l'enjeu du vin ?</td>\n",
       "      <td>un féroce combat où l'argent le dispute à la g...</td>\n",
       "    </tr>\n",
       "    <tr>\n",
       "      <th>5</th>\n",
       "      <td>8576</td>\n",
       "      <td>0.634816</td>\n",
       "      <td>Quel est le symbole du vin ?</td>\n",
       "      <td>symbole de civilisation</td>\n",
       "    </tr>\n",
       "    <tr>\n",
       "      <th>6</th>\n",
       "      <td>6567</td>\n",
       "      <td>0.620345</td>\n",
       "      <td>quels sont les enjeux</td>\n",
       "      <td>enjeux locaux économiques, techniques, et surt...</td>\n",
       "    </tr>\n",
       "    <tr>\n",
       "      <th>7</th>\n",
       "      <td>3513</td>\n",
       "      <td>0.614405</td>\n",
       "      <td>Combien de personnes accompagnent De Mons ?</td>\n",
       "      <td>80</td>\n",
       "    </tr>\n",
       "    <tr>\n",
       "      <th>8</th>\n",
       "      <td>3512</td>\n",
       "      <td>0.614405</td>\n",
       "      <td>Combien de personnes accompagnent De Mons ?</td>\n",
       "      <td>80</td>\n",
       "    </tr>\n",
       "    <tr>\n",
       "      <th>9</th>\n",
       "      <td>9838</td>\n",
       "      <td>0.609765</td>\n",
       "      <td>Combien rapporte Deberny à Peignot lors de leu...</td>\n",
       "      <td>2,6 millions</td>\n",
       "    </tr>\n",
       "    <tr>\n",
       "      <th>10</th>\n",
       "      <td>2777</td>\n",
       "      <td>0.608766</td>\n",
       "      <td>Quelles sont les charactéristiques de la jeep ?</td>\n",
       "      <td>une voiture vigoureuse, sommaire et très rusti...</td>\n",
       "    </tr>\n",
       "    <tr>\n",
       "      <th>11</th>\n",
       "      <td>8862</td>\n",
       "      <td>0.600568</td>\n",
       "      <td>Quel coureur, l'équipe cycliste Vacansoleil em...</td>\n",
       "      <td>Riccardo Ricco</td>\n",
       "    </tr>\n",
       "    <tr>\n",
       "      <th>12</th>\n",
       "      <td>10306</td>\n",
       "      <td>0.599306</td>\n",
       "      <td>Accompagné de quoi ?</td>\n",
       "      <td>un doublement de la glace de mer dans l’hémisp...</td>\n",
       "    </tr>\n",
       "    <tr>\n",
       "      <th>13</th>\n",
       "      <td>9634</td>\n",
       "      <td>0.593423</td>\n",
       "      <td>Que peut-on voir à l'extérieur depuis la chamb...</td>\n",
       "      <td>une vue sur des scènes ou paysages</td>\n",
       "    </tr>\n",
       "    <tr>\n",
       "      <th>14</th>\n",
       "      <td>8956</td>\n",
       "      <td>0.592899</td>\n",
       "      <td>Qu'est ce que l'empereur ?</td>\n",
       "      <td>figure suprême auréolée de gloire après avoir ...</td>\n",
       "    </tr>\n",
       "    <tr>\n",
       "      <th>15</th>\n",
       "      <td>3009</td>\n",
       "      <td>0.591446</td>\n",
       "      <td>Comment distinguer les types de bruit ?</td>\n",
       "      <td>par la densité spectrale</td>\n",
       "    </tr>\n",
       "    <tr>\n",
       "      <th>16</th>\n",
       "      <td>1332</td>\n",
       "      <td>0.590610</td>\n",
       "      <td>Par quoi commence le déjeuner hongrois ?</td>\n",
       "      <td>une soupe</td>\n",
       "    </tr>\n",
       "    <tr>\n",
       "      <th>17</th>\n",
       "      <td>1333</td>\n",
       "      <td>0.590610</td>\n",
       "      <td>Par quoi commence le déjeuner hongrois ?</td>\n",
       "      <td>une soupe</td>\n",
       "    </tr>\n",
       "    <tr>\n",
       "      <th>18</th>\n",
       "      <td>1329</td>\n",
       "      <td>0.588384</td>\n",
       "      <td>Qu'est-ce qui termine le déjeuner hongrois ?</td>\n",
       "      <td>un produit sucré</td>\n",
       "    </tr>\n",
       "    <tr>\n",
       "      <th>19</th>\n",
       "      <td>5358</td>\n",
       "      <td>0.586439</td>\n",
       "      <td>Quel type de moteur équipait la Golf ?</td>\n",
       "      <td>un moteur transversal à refroidissement liquide</td>\n",
       "    </tr>\n",
       "  </tbody>\n",
       "</table>\n",
       "</div>"
      ],
      "text/plain": [
       "       id  cosine_similarity  \\\n",
       "0    1334           1.000000   \n",
       "1    1335           1.000000   \n",
       "2    1336           1.000000   \n",
       "3    1330           0.768863   \n",
       "4    8575           0.711023   \n",
       "5    8576           0.634816   \n",
       "6    6567           0.620345   \n",
       "7    3513           0.614405   \n",
       "8    3512           0.614405   \n",
       "9    9838           0.609765   \n",
       "10   2777           0.608766   \n",
       "11   8862           0.600568   \n",
       "12  10306           0.599306   \n",
       "13   9634           0.593423   \n",
       "14   8956           0.592899   \n",
       "15   3009           0.591446   \n",
       "16   1332           0.590610   \n",
       "17   1333           0.590610   \n",
       "18   1329           0.588384   \n",
       "19   5358           0.586439   \n",
       "\n",
       "                                             question  \\\n",
       "0           Quel type de vin accompagne le déjeuner ?   \n",
       "1           Quel type de vin accompagne le déjeuner ?   \n",
       "2           Quel type de vin accompagne le déjeuner ?   \n",
       "3      Où est produit le vin servi avec le déjeuner ?   \n",
       "4                           Quel est l'enjeu du vin ?   \n",
       "5                        Quel est le symbole du vin ?   \n",
       "6                               quels sont les enjeux   \n",
       "7         Combien de personnes accompagnent De Mons ?   \n",
       "8         Combien de personnes accompagnent De Mons ?   \n",
       "9   Combien rapporte Deberny à Peignot lors de leu...   \n",
       "10    Quelles sont les charactéristiques de la jeep ?   \n",
       "11  Quel coureur, l'équipe cycliste Vacansoleil em...   \n",
       "12                               Accompagné de quoi ?   \n",
       "13  Que peut-on voir à l'extérieur depuis la chamb...   \n",
       "14                         Qu'est ce que l'empereur ?   \n",
       "15            Comment distinguer les types de bruit ?   \n",
       "16           Par quoi commence le déjeuner hongrois ?   \n",
       "17           Par quoi commence le déjeuner hongrois ?   \n",
       "18       Qu'est-ce qui termine le déjeuner hongrois ?   \n",
       "19             Quel type de moteur équipait la Golf ?   \n",
       "\n",
       "                                              reponse  \n",
       "0         vin rouge produit dans la région du Balaton  \n",
       "1   produit dans la région du Balaton ou dans les ...  \n",
       "2                                           vin rouge  \n",
       "3   dans la région du Balaton ou dans les massifs ...  \n",
       "4   un féroce combat où l'argent le dispute à la g...  \n",
       "5                             symbole de civilisation  \n",
       "6   enjeux locaux économiques, techniques, et surt...  \n",
       "7                                                  80  \n",
       "8                                                  80  \n",
       "9                                        2,6 millions  \n",
       "10  une voiture vigoureuse, sommaire et très rusti...  \n",
       "11                                     Riccardo Ricco  \n",
       "12  un doublement de la glace de mer dans l’hémisp...  \n",
       "13                 une vue sur des scènes ou paysages  \n",
       "14  figure suprême auréolée de gloire après avoir ...  \n",
       "15                           par la densité spectrale  \n",
       "16                                          une soupe  \n",
       "17                                          une soupe  \n",
       "18                                   un produit sucré  \n",
       "19    un moteur transversal à refroidissement liquide  "
      ]
     },
     "execution_count": 219,
     "metadata": {},
     "output_type": "execute_result"
    }
   ],
   "source": [
    "import random\n",
    "rand_id = random.randint(0,11812)\n",
    "\n",
    "print(f\"Random id : {rand_id}\")\n",
    "print()\n",
    "\n",
    "# Connect to an existing database\n",
    "with psycopg.connect(conninfo=db_url) as conn:\n",
    "    # Open a cursor to perform database operations\n",
    "    with conn.cursor() as cur:\n",
    "\n",
    "        res = cur.execute(\"\"\"\n",
    "            SELECT\n",
    "            id,\n",
    "            1 - (embedding <=> (SELECT embedding FROM piaf WHERE id = %s)) AS cosine_similarity,\n",
    "            question,\n",
    "            reponse          \n",
    "            FROM piaf\n",
    "            ORDER BY cosine_similarity DESC LIMIT 20;\n",
    "        \"\"\", (rand_id, )).fetchall()\n",
    "\n",
    "        res_df = pd.DataFrame(res, columns=['id', 'cosine_similarity', 'question', 'reponse'])\n",
    "res_df"
   ]
  }
 ],
 "metadata": {
  "kernelspec": {
   "display_name": ".venv",
   "language": "python",
   "name": "python3"
  },
  "language_info": {
   "codemirror_mode": {
    "name": "ipython",
    "version": 3
   },
   "file_extension": ".py",
   "mimetype": "text/x-python",
   "name": "python",
   "nbconvert_exporter": "python",
   "pygments_lexer": "ipython3",
   "version": "3.10.12"
  }
 },
 "nbformat": 4,
 "nbformat_minor": 2
}
