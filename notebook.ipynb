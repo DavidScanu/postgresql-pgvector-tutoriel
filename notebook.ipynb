{
 "cells": [
  {
   "cell_type": "markdown",
   "metadata": {},
   "source": [
    "# Comment créer une base de données vectorielle avec PostgreSLQ et pgvector"
   ]
  },
  {
   "cell_type": "markdown",
   "metadata": {},
   "source": [
    "## 1. Créer la BDD PostgreSQL + pgvector avec dans un conteneur \n",
    "\n",
    "### Docker-compose.yaml\n",
    "\n",
    "Tout d'abord, nous devons créer un fichier `docker-compose.yml` avec les services nécessaires.\n",
    "\n",
    "Dans ce fichier, nous définissons un service appelé `db` qui est basé sur l'image Docker `pgvector/pgvector:pg16`. Le service expose le port `5432` pour interagir avec la base de données et configure des variables d'environnement pour le nom de la base de données, l'utilisateur, le mot de passe et la méthode d'authentification. De plus, nous montons un fichier `init.sql` dans le répertoire `/docker-entrypoint-initdb.d` à l'intérieur du conteneur à des fins d'initialisation.\n",
    "\n",
    "### Fichier init.sql\n",
    "\n",
    "Dans ce script `init.sql`, nous activons l'extension `pgvector`, si elle n'existe pas déjà. Ensuite, nous créons une table appelée `embedding` avec les colonnes : `id`, `embedding`, `text` et `created_at`.\n",
    "\n",
    "### Lancer le conteneur\n",
    "\n",
    "```\n",
    "docker-compose up -d\n",
    "```\n",
    "\n",
    "Cette commande créera un conteneur Docker avec le serveur PostgreSQL et l'extension `pgvector` déjà installés et configurés, en fonction des spécifications du fichier `docker-compose.yml`.\n",
    "\n",
    "\n",
    "#### Obsolète \n",
    "\n",
    "Créer un base de données PostgreSQL avec `docker run`\n",
    "\n",
    "```\n",
    "docker run -d --name postgresCont -p 5432:5432 -e POSTGRES_PASSWORD=pass123 postgres\n",
    "docker run -d --name postgresCont -p 5432:5432 -e POSTGRES_PASSWORD=pass123 pgvector/pgvector:pg16\n",
    "docker exec -it postgresCont bash\n",
    "psql -h localhost -U postgres\n",
    "```"
   ]
  },
  {
   "cell_type": "markdown",
   "metadata": {},
   "source": [
    "## 2. Se connecter avec psql\n",
    "\n",
    "### Aller dans le conteneur\n",
    "\n",
    "`docker exec -it <container id> bash`\n",
    "\n",
    "### Se conncter à la base de donnée avec `psql`\n",
    "\n",
    "`psql -h localhost -U postgres -d vectordb`"
   ]
  },
  {
   "cell_type": "markdown",
   "metadata": {},
   "source": [
    "## 3. Importer les phrases et les vecteurs"
   ]
  },
  {
   "cell_type": "code",
   "execution_count": 3,
   "metadata": {},
   "outputs": [],
   "source": [
    "import os\n",
    "import pickle\n",
    "import time\n",
    "\n",
    "embedding_cache_path = \"quora-embeddings-quora-distilbert-multilingual-size-100000.pkl\"\n",
    "\n",
    "embedding_size = 768  # Size of embeddings\n",
    "top_k_hits = 10  # Output k hits\n",
    "\n",
    "with open(embedding_cache_path, \"rb\") as fIn:\n",
    "    cache_data = pickle.load(fIn)\n",
    "    corpus_sentences = cache_data[\"sentences\"]\n",
    "    corpus_embeddings = cache_data[\"embeddings\"].tolist()"
   ]
  },
  {
   "cell_type": "code",
   "execution_count": 98,
   "metadata": {},
   "outputs": [
    {
     "name": "stdout",
     "output_type": "stream",
     "text": [
      "When is surge pricing on Uber generally in effect in Oakland and how high does it go?\n",
      "It's only 1 month left for my 12th (PCM) CBSE board exams 2017 and I didn't study at all. How can I get 80%+ ? Any tips guys?\n",
      "Who is the richest disabled person in the world?\n",
      "I didn't file my taxes last year. What are the forms that I will have to fill out? When is the last day to do so?\n",
      "If the Bible is written by many authors, who actually assembled the anthology?\n",
      "How long time charge a new mobile before first use?\n",
      "Why do African-Americans seem to have lighter skin tones than Africans?\n",
      "What is the difference between a graphic novel and a comic?\n",
      "What would be the best online educational resources to learn for an affiliate marketing beginner?\n",
      "What is the royal society?\n"
     ]
    }
   ],
   "source": [
    "for sentence in corpus_sentences[:10]:\n",
    "    print(sentence)"
   ]
  },
  {
   "cell_type": "markdown",
   "metadata": {},
   "source": [
    "## 4. Créer les représentations vectorielles avec Sentence Transformers"
   ]
  },
  {
   "cell_type": "code",
   "execution_count": null,
   "metadata": {},
   "outputs": [],
   "source": []
  },
  {
   "cell_type": "markdown",
   "metadata": {},
   "source": [
    "## 5. Créer une table 'quora' dans la BDD"
   ]
  },
  {
   "cell_type": "markdown",
   "metadata": {},
   "source": [
    "### Connexion à la base de données avec Psycopg\n",
    "\n",
    "- https://www.psycopg.org/psycopg3/docs/basic/usage.html"
   ]
  },
  {
   "cell_type": "code",
   "execution_count": null,
   "metadata": {},
   "outputs": [],
   "source": [
    "# ! pip install \"psycopg[binary]\""
   ]
  },
  {
   "cell_type": "code",
   "execution_count": 5,
   "metadata": {},
   "outputs": [],
   "source": [
    "import psycopg\n",
    "\n",
    "# DEFINE THE DATABASE CREDENTIALS\n",
    "user = 'testuser'\n",
    "password = 'testpwd'\n",
    "# host = '127.0.0.1'\n",
    "host = 'localhost'\n",
    "port = 5432\n",
    "database = 'vectordb'\n",
    "\n",
    "db_url = f\"postgresql://{user}:{password}@{host}:{port}/{database}\""
   ]
  },
  {
   "cell_type": "markdown",
   "metadata": {},
   "source": [
    "### Création de la table 'quora'\n",
    "\n",
    "- Pour la colonne 'embedding' : vector(768) ou vector() ?"
   ]
  },
  {
   "cell_type": "code",
   "execution_count": 19,
   "metadata": {},
   "outputs": [],
   "source": [
    "# Connect to an existing database\n",
    "with psycopg.connect(conninfo=db_url) as conn:\n",
    "    # Open a cursor to perform database operations\n",
    "    with conn.cursor() as cur:\n",
    "        # Execute a command: this creates a new table\n",
    "        cur.execute(\"\"\"\n",
    "            CREATE TABLE IF NOT EXISTS quora (\n",
    "                id serial PRIMARY KEY,\n",
    "                sentence text NOT NULL,\n",
    "                embedding vector(768) NOT NULL\n",
    "                );\n",
    "            \"\"\")\n",
    "        # Make the changes to the database persistent\n",
    "        conn.commit()"
   ]
  },
  {
   "cell_type": "markdown",
   "metadata": {},
   "source": [
    "## 6. Sauvegarder les données et les vecteurs dans la BDD"
   ]
  },
  {
   "cell_type": "code",
   "execution_count": 21,
   "metadata": {},
   "outputs": [],
   "source": [
    "with psycopg.connect(conninfo=db_url) as conn:\n",
    "    # Open a cursor to perform database operations\n",
    "    with conn.cursor() as cur:\n",
    "        # Execute a command: this creates a new table\n",
    "        for sentence, embedding in zip(corpus_sentences, corpus_embeddings):\n",
    "            cur.execute(\"\"\"INSERT INTO quora (sentence, embedding) VALUES (%s, %s);\"\"\", (sentence, embedding))\n",
    "        # Make the changes to the database persistent\n",
    "        conn.commit()"
   ]
  },
  {
   "cell_type": "markdown",
   "metadata": {},
   "source": [
    "## 7. Utiliser la recherche vectorielle "
   ]
  },
  {
   "cell_type": "markdown",
   "metadata": {},
   "source": [
    "### Encoder la requète avec Sentence Transformers\n",
    "\n",
    "- https://huggingface.co/sentence-transformers/quora-distilbert-multilingual\n",
    "\n",
    "Ca déconne en local..."
   ]
  },
  {
   "cell_type": "markdown",
   "metadata": {},
   "source": [
    "### Chargement des vecteurs de la requète"
   ]
  },
  {
   "cell_type": "code",
   "execution_count": 78,
   "metadata": {},
   "outputs": [],
   "source": [
    "# load queries vectors\n",
    "with open(\"queries.pkl\", \"rb\") as fIn:\n",
    "    cache_data = pickle.load(fIn)\n",
    "    queries_sentences = cache_data[\"sentences\"]\n",
    "    queries_embeddings = cache_data[\"embeddings\"].tolist()"
   ]
  },
  {
   "cell_type": "code",
   "execution_count": 79,
   "metadata": {},
   "outputs": [
    {
     "name": "stdout",
     "output_type": "stream",
     "text": [
      "What is the sense of the universe?\n",
      "Why is it so hard to learn AI?\n"
     ]
    }
   ],
   "source": [
    "for sentence in queries_sentences:\n",
    "    print(sentence)"
   ]
  },
  {
   "cell_type": "markdown",
   "metadata": {},
   "source": [
    "### Recherche par plus proches voisins d'un vecteur "
   ]
  },
  {
   "cell_type": "code",
   "execution_count": 96,
   "metadata": {},
   "outputs": [
    {
     "name": "stdout",
     "output_type": "stream",
     "text": [
      "id : 40586 | sentence : What is the best way to learn about AI if you aren't an engineer?\n",
      "id : 7861 | sentence : What is the biggest unresolved problem for AI?\n",
      "id : 21625 | sentence : Do AI and machine learning involve a lot of coding?\n",
      "id : 53062 | sentence : How do I become an expert in artificial intelligence?\n",
      "id : 20271 | sentence : Will be better able to predict how AI might behave if we always know that it will behave rationally?\n",
      "id : 59109 | sentence : Is it important for electronics engineering student to learn python and why?\n",
      "id : 79515 | sentence : What's AI really?\n",
      "id : 43546 | sentence : How do I become an Artificial Intelligence expert?\n",
      "id : 73069 | sentence : Many famous IT people are worried about AI and its usage in future. Is there a case when someone used AI for a bad thing nowadays?\n",
      "id : 33058 | sentence : How do I start learning about artificial intelligence?\n"
     ]
    }
   ],
   "source": [
    "# Connect to an existing database\n",
    "with psycopg.connect(conninfo=db_url) as conn:\n",
    "    # Open a cursor to perform database operations\n",
    "    with conn.cursor() as cur:\n",
    "        # Execute a command: this creates a new table\n",
    "        res = cur.execute(\"\"\"\n",
    "            SELECT * FROM quora ORDER BY embedding <-> %s LIMIT 10;\n",
    "        \"\"\", (str(queries_embeddings[1]), )).fetchall()\n",
    "        for row in res:\n",
    "            print(f\"id : {row[0]} | sentence : {row[1]}\")"
   ]
  },
  {
   "cell_type": "markdown",
   "metadata": {},
   "source": [
    "### Les plus proches voisins d'une ligne (id aléatoire)"
   ]
  },
  {
   "cell_type": "code",
   "execution_count": 89,
   "metadata": {},
   "outputs": [
    {
     "name": "stdout",
     "output_type": "stream",
     "text": [
      "Random id : 52964\n",
      "\n",
      "id : 52964 | sentence : How do I potty train my two-month-old Labrador pup?\n",
      "id : 25349 | sentence : How do you potty train a 4 month old puppy?\n",
      "id : 24514 | sentence : How do I potty train a puppy?\n",
      "id : 97210 | sentence : How do you potty train large puppies?\n",
      "id : 97652 | sentence : How do you potty train Mini Westie puppies?\n",
      "id : 11830 | sentence : How can I potty train a Pug puppy?\n",
      "id : 83019 | sentence : How do you potty train White Pitbull puppies?\n",
      "id : 37333 | sentence : How do you potty train a English Bulldog/Pitbull mix puppy?\n",
      "id : 41151 | sentence : How do you potty train a 4 months Pitbull?\n",
      "id : 76224 | sentence : How do you potty train a 4 year old, nonverbal autistic child?\n",
      "id : 72484 | sentence : How do you potty train a 6-month old Pit Bull?\n",
      "id : 20560 | sentence : How do you train Dachshund/Lab mix puppies?\n",
      "id : 32865 | sentence : How should you train a Dachshund/Lab mix puppy?\n",
      "id : 66478 | sentence : How do I train my Beagle/German Shepherd mix puppy to guard my house?\n",
      "id : 93079 | sentence : How can you train a Rottweiler/German Shepherd mix?\n",
      "id : 45156 | sentence : How do you train a German Shepherd/Labrador mix?\n",
      "id : 31509 | sentence : How can I train a dog at home?\n",
      "id : 87609 | sentence : How do I train my puppy?\n",
      "id : 32144 | sentence : How do you train your dog to defecate outside?\n",
      "id : 78081 | sentence : How do you train a Rottweiler/Pit Bull puppy?\n"
     ]
    }
   ],
   "source": [
    "import random\n",
    "rand_id = random.randint(0,100000)\n",
    "\n",
    "print(f\"Random id : {rand_id}\")\n",
    "print()\n",
    "\n",
    "# Connect to an existing database\n",
    "with psycopg.connect(conninfo=db_url) as conn:\n",
    "    # Open a cursor to perform database operations\n",
    "    with conn.cursor() as cur:\n",
    "\n",
    "        records = cur.execute(\"\"\"\n",
    "            SELECT id, sentence\n",
    "            FROM quora\n",
    "            ORDER BY embedding <=> (SELECT embedding FROM quora WHERE id = %s)\n",
    "            LIMIT 20;\n",
    "        \"\"\", (rand_id, )).fetchall()\n",
    "\n",
    "        for record in records:\n",
    "            print(f\"id : {record[0]} | sentence : {record[1]}\")"
   ]
  }
 ],
 "metadata": {
  "kernelspec": {
   "display_name": ".venv",
   "language": "python",
   "name": "python3"
  },
  "language_info": {
   "codemirror_mode": {
    "name": "ipython",
    "version": 3
   },
   "file_extension": ".py",
   "mimetype": "text/x-python",
   "name": "python",
   "nbconvert_exporter": "python",
   "pygments_lexer": "ipython3",
   "version": "3.10.12"
  }
 },
 "nbformat": 4,
 "nbformat_minor": 2
}
