{
 "cells": [
  {
   "cell_type": "markdown",
   "metadata": {},
   "source": [
    "# Comment créer une base de données vectorielle avec PostgreSLQ et pgvector\n",
    "\n",
    "## Etapes\n",
    "\n",
    "1. Créer la BDD PostgreSQL + pgvector dans un conteneur Docker\n",
    "2. Se connecter avec psql (pour vérification)\n",
    "3. Importer les données (textes)\n",
    "4. Créer les vecteurs avec Sentence Transformers\n",
    "5. Créer une table 'quora' dans la BDD\n",
    "6. Sauvegarder les données et les vecteurs dans la BDD\n",
    "7. Utiliser la recherche vectorielle "
   ]
  },
  {
   "cell_type": "markdown",
   "metadata": {},
   "source": [
    "## 1. Docker : Créer la BDD PostgreSQL + pgvector avec dans un conteneur \n",
    "\n",
    "### Docker-compose.yaml\n",
    "\n",
    "Tout d'abord, nous devons créer un fichier `docker-compose.yml` avec les services nécessaires.\n",
    "\n",
    "Dans ce fichier, nous définissons un service appelé `db` qui est basé sur l'image Docker `pgvector/pgvector:pg16`. Le service expose le port `5432` pour interagir avec la base de données et configure des variables d'environnement pour le nom de la base de données, l'utilisateur, le mot de passe et la méthode d'authentification. De plus, nous montons un fichier `init.sql` dans le répertoire `/docker-entrypoint-initdb.d` à l'intérieur du conteneur à des fins d'initialisation.\n",
    "\n",
    "### Fichier init.sql\n",
    "\n",
    "Dans ce script `init.sql`, nous activons l'extension `pgvector`, si elle n'existe pas déjà. Ensuite, nous créons une table appelée `embedding` avec les colonnes : `id`, `embedding`, `text` et `created_at`.\n",
    "\n",
    "### Créer le conteneur\n",
    "\n",
    "```\n",
    "docker-compose up -d\n",
    "```\n",
    "\n",
    "Cette commande créera un conteneur Docker avec le serveur PostgreSQL et l'extension `pgvector` déjà installés et configurés, en fonction des spécifications du fichier `docker-compose.yml`.\n",
    "\n",
    "\n",
    "#### Obsolète \n",
    "\n",
    "Créer un base de données PostgreSQL avec `docker run`\n",
    "\n",
    "```\n",
    "docker run -d --name postgresCont -p 5432:5432 -e POSTGRES_PASSWORD=pass123 postgres\n",
    "docker run -d --name postgresCont -p 5432:5432 -e POSTGRES_PASSWORD=pass123 pgvector/pgvector:pg16\n",
    "docker exec -it postgresCont bash\n",
    "psql -h localhost -U postgres\n",
    "```"
   ]
  },
  {
   "cell_type": "markdown",
   "metadata": {},
   "source": [
    "## 2. Se connecter avec psql (dans le conteneur)\n",
    "\n",
    "### Aller dans le conteneur\n",
    "\n",
    "`docker exec -it <container id> bash`\n",
    "\n",
    "### Se conncter à la base de donnée avec `psql`\n",
    "\n",
    "`psql -h localhost -U postgres -d vectordb`"
   ]
  },
  {
   "cell_type": "code",
   "execution_count": null,
   "metadata": {},
   "outputs": [],
   "source": [
    "# ! pip install sentence-transformers \"psycopg[binary]\" --quiet"
   ]
  },
  {
   "cell_type": "code",
   "execution_count": 23,
   "metadata": {},
   "outputs": [],
   "source": [
    "import os\n",
    "import time\n",
    "\n",
    "import numpy as np\n",
    "import pandas as pd\n",
    "from sentence_transformers import SentenceTransformer\n",
    "import psycopg\n",
    "from pgvector.psycopg import register_vector"
   ]
  },
  {
   "cell_type": "markdown",
   "metadata": {},
   "source": [
    "## 3. Importer le jeu de données (textes)\n",
    "\n",
    "Le jeu de donnée consiste en **11812 paires de question-réponses**, extraites du dataset **\"piaf v1.2\"**, disponible sur https://www.data.gouv.fr/. L'objectif est de créer des représentations vectorielles pour les questions avec un modèle **Sentence Transformers (sBert)**. Ainsi, nous pourrons effectuer une **recherche sémantique** dans les questions depuis une requète textuelle ou **trouver les questions les plus similaires** entre elles.\n",
    "\n",
    "|  | Description |\n",
    "| --- | --- |\n",
    "| Nom du fichier | question-reponse-sans-texte.csv |\n",
    "| Description du fichier | Extraction des questions-réponses à partir du fichier piaf-v1.2.json pour les visualiser au format CSV |\n",
    "| Colonnes | 2 colonnes: ['question', 'reponse'] |\n",
    "| Lignes | 11812 lignes | \n",
    "| Type MIME | text/csv |\n",
    "| Créée le | 25 mars 2021 |\n",
    "| Taille | 990.9Ko |\n",
    "\n",
    "- https://www.data.gouv.fr/fr/datasets/piaf-le-dataset-francophone-de-questions-reponses/"
   ]
  },
  {
   "cell_type": "code",
   "execution_count": 2,
   "metadata": {},
   "outputs": [],
   "source": [
    "# question-reponse-sans-texte.csv\n",
    "dataset_url = \"https://www.data.gouv.fr/fr/datasets/r/14159082-d1be-417e-a67c-c3c494c7a4ad\"\n",
    "\n",
    "dataset_df = pd.read_csv(dataset_url)"
   ]
  },
  {
   "cell_type": "code",
   "execution_count": 3,
   "metadata": {},
   "outputs": [
    {
     "data": {
      "text/plain": [
       "(11812, 2)"
      ]
     },
     "execution_count": 3,
     "metadata": {},
     "output_type": "execute_result"
    }
   ],
   "source": [
    "dataset_df.shape"
   ]
  },
  {
   "cell_type": "code",
   "execution_count": 4,
   "metadata": {},
   "outputs": [],
   "source": [
    "corpus_questions = dataset_df.loc[:, 'question'].tolist()\n",
    "corpus_reponses = dataset_df.loc[:, 'reponse'].tolist()"
   ]
  },
  {
   "cell_type": "code",
   "execution_count": 6,
   "metadata": {},
   "outputs": [
    {
     "name": "stdout",
     "output_type": "stream",
     "text": [
      "Quel architecte fût à l'origine des plans du Woolworth building? => Cass Gilbert\n",
      "Où se trouvait Franck Woolworth lors de l'inauguration de son immeuble New Yorkais ? => Washington\n",
      "Comment fût payé le bâtiment commandé par Franck Woolworth? => en cash\n",
      "En quelle année ouvrit le Woolworth Building ? => 1913\n",
      "Qui commanda la construction du Woolworth Building ? => Frank Woolworth\n",
      "Quelle femme devint reine aux côtés de Philippe le Bel ? => Jeanne Ire de Navarre\n",
      "Quel créancier du roi fut supprimé en 1312 ? => l'ordre du Temple\n",
      "Quel créancier du roi fut supprimé en 1312 ? => l'ordre du Temple\n",
      "Quelle raison pousse Philippe Le Bel à organiser les premiers Etats généraux ? => pour lever de nouveaux impôts\n",
      "Quel souverain utilise les dévaluations monétaires pour s'enrichir ? => Philippe IV le Bel\n"
     ]
    }
   ],
   "source": [
    "# Afficher les 10 premières paires de question-réponse.\n",
    "for question, reponse in zip(corpus_questions[:10], corpus_reponses[:10]):\n",
    "    print(f\"{question} => {reponse}\")"
   ]
  },
  {
   "cell_type": "markdown",
   "metadata": {},
   "source": [
    "## 4. Encoder les questions avec Sentence Transformers\n",
    "\n",
    "**SentenceTransformers** est un framework Python pour la création de représentations vectorielles de phrases, de textes et d'images.\n",
    "\n",
    "- https://www.sbert.net/index.html\n",
    "- https://huggingface.co/dangvantuan/sentence-camembert-base"
   ]
  },
  {
   "cell_type": "code",
   "execution_count": 7,
   "metadata": {},
   "outputs": [],
   "source": [
    "# Modèle Sentence Transformer pour l'encodage du jeu de données ou de la requète de recherche sémantique\n",
    "# Modèle pré-entraîné d'encodage de textes en français\n",
    "model_name = \"dangvantuan/sentence-camembert-base\" # vector size = 768\n",
    "model = SentenceTransformer(model_name, device='cuda')"
   ]
  },
  {
   "cell_type": "code",
   "execution_count": 24,
   "metadata": {},
   "outputs": [
    {
     "data": {
      "application/vnd.jupyter.widget-view+json": {
       "model_id": "16494440842c445d8a0e408e3892c0a5",
       "version_major": 2,
       "version_minor": 0
      },
      "text/plain": [
       "Batches:   0%|          | 0/370 [00:00<?, ?it/s]"
      ]
     },
     "metadata": {},
     "output_type": "display_data"
    }
   ],
   "source": [
    "embeddings_questions = model.encode(corpus_questions, show_progress_bar=True)"
   ]
  },
  {
   "cell_type": "markdown",
   "metadata": {},
   "source": [
    "## 5. Sauvegarder les données et les vecteurs dans la BDD\n",
    "\n",
    "- **Pyscopg3** : https://www.psycopg.org/psycopg3/docs/basic/usage.html"
   ]
  },
  {
   "cell_type": "code",
   "execution_count": 25,
   "metadata": {},
   "outputs": [],
   "source": [
    "# DEFINE THE DATABASE CREDENTIALS\n",
    "user = 'testuser'\n",
    "password = 'testpwd'\n",
    "host = 'localhost'\n",
    "port = 5432\n",
    "database = 'vectordb'\n",
    "\n",
    "db_url = f\"postgresql://{user}:{password}@{host}:{port}/{database}\""
   ]
  },
  {
   "cell_type": "code",
   "execution_count": 27,
   "metadata": {},
   "outputs": [
    {
     "name": "stdout",
     "output_type": "stream",
     "text": [
      "CPU times: user 967 ms, sys: 355 ms, total: 1.32 s\n",
      "Wall time: 5.74 s\n"
     ]
    }
   ],
   "source": [
    "%%time\n",
    "# Connect to an existing database\n",
    "with psycopg.connect(conninfo=db_url) as conn:\n",
    "    # Activation de l'extension pgvector (si elle n'existe pas déjà)\n",
    "    conn.execute(\"CREATE EXTENSION IF NOT EXISTS vector;\")\n",
    "    # Enregistrez le type 'vecteur' avec votre connexion\n",
    "    register_vector(conn)\n",
    "    # Effacement de la table (si elle n'existe pas déjà)\n",
    "    conn.execute(\"\"\"DROP TABLE IF EXISTS piaf CASCADE;\"\"\")\n",
    "    # Création de la table\n",
    "    conn.execute(\"\"\"\n",
    "        CREATE TABLE IF NOT EXISTS piaf (\n",
    "            id serial PRIMARY KEY,\n",
    "            question text NOT NULL,\n",
    "            reponse text NOT NULL,\n",
    "            embedding vector(768) NOT NULL,\n",
    "            created_at timestamptz DEFAULT now()\n",
    "            );\n",
    "        \"\"\")\n",
    "    # Sauvegarde des questions/reponses et des vecteurs\n",
    "    for question, reponse, embedding in zip(corpus_questions, corpus_reponses, embeddings_questions):\n",
    "        conn.execute(\"\"\"INSERT INTO piaf (question, reponse, embedding) VALUES (%s, %s, %s);\"\"\", (question, reponse, embedding))\n",
    "    # Make the changes to the database persistent\n",
    "    conn.commit()"
   ]
  },
  {
   "cell_type": "markdown",
   "metadata": {},
   "source": [
    "## 6. Utiliser la recherche vectorielle "
   ]
  },
  {
   "cell_type": "markdown",
   "metadata": {},
   "source": [
    "- https://huggingface.co/sentence-transformers/quora-distilbert-multilingual"
   ]
  },
  {
   "cell_type": "markdown",
   "metadata": {},
   "source": [
    "### Rechercher par requète textuelle"
   ]
  },
  {
   "cell_type": "code",
   "execution_count": 67,
   "metadata": {},
   "outputs": [
    {
     "data": {
      "application/vnd.jupyter.widget-view+json": {
       "model_id": "6c3692bf9c9e402b9395136984b3b633",
       "version_major": 2,
       "version_minor": 0
      },
      "text/plain": [
       "Batches:   0%|          | 0/1 [00:00<?, ?it/s]"
      ]
     },
     "metadata": {},
     "output_type": "display_data"
    },
    {
     "name": "stdout",
     "output_type": "stream",
     "text": [
      "CPU times: user 59.7 ms, sys: 642 µs, total: 60.4 ms\n",
      "Wall time: 58.1 ms\n"
     ]
    }
   ],
   "source": [
    "%%time\n",
    "query = \"quelle est la date de la libération ?\"\n",
    "\n",
    "# Encoder la requète avec Sentence Transformers\n",
    "embedding_query = model.encode(query, show_progress_bar=True).tolist()"
   ]
  },
  {
   "cell_type": "code",
   "execution_count": 68,
   "metadata": {},
   "outputs": [
    {
     "name": "stdout",
     "output_type": "stream",
     "text": [
      "À quelle religion Proust ne souhaite pas être converti ?\n",
      "A quelle religion s'est-il convertit ?\n",
      "Comment caractérise-t-on le fait d'être sceptique vis à vis de la religion ?\n",
      "Qui les chrétiens désirent ils convertir ?\n",
      "Qui les chrétiens désirent ils convertir ?\n",
      "CPU times: user 9.62 ms, sys: 793 µs, total: 10.4 ms\n",
      "Wall time: 59.5 ms\n"
     ]
    }
   ],
   "source": [
    "%%time\n",
    "# Connect to an existing database\n",
    "with psycopg.connect(conninfo=db_url) as conn:\n",
    "    # Enregistrez le type 'vecteur' avec votre connexion\n",
    "    register_vector(conn)\n",
    "\n",
    "    res = conn.execute('SELECT * FROM piaf ORDER BY embedding <=> %s LIMIT 5', (embedding,)).fetchall()\n",
    "\n",
    "    for row in res:\n",
    "        print(f\"{row[1]}\")"
   ]
  },
  {
   "cell_type": "code",
   "execution_count": 70,
   "metadata": {},
   "outputs": [
    {
     "name": "stdout",
     "output_type": "stream",
     "text": [
      "id : 7495 | score : 0.7975 | Question : Quelle est la date de la libération de Paris ? | Réponse : 25 août 1944\n",
      "id : 3762 | score : 0.7365 | Question : Quelle est la date de l’inauguration ? | Réponse : 11 octobre 1854\n",
      "id : 3763 | score : 0.7365 | Question : Quelle est la date de l’inauguration ? | Réponse : le 11 octobre 1854\n",
      "id : 10373 | score : 0.7156 | Question : A quelle date ? | Réponse : 28 septembre 1746\n",
      "id : 2754 | score : 0.7 | Question : Quelles est la date de création de la réserve ? | Réponse : 1991\n",
      "id : 2755 | score : 0.7 | Question : Quelles est la date de création de la réserve ? | Réponse : en 1991\n",
      "id : 4156 | score : 0.6995 | Question : quelle est la date de la réforme? | Réponse : 1995\n",
      "id : 4155 | score : 0.6995 | Question : quelle est la date de la réforme? | Réponse : 1995\n",
      "id : 9578 | score : 0.6947 | Question : Quelle est sa date de sortie? | Réponse : 1995\n",
      "id : 10037 | score : 0.6606 | Question : Quelle est la date de création du Comité? | Réponse : 18 décembre 2012\n",
      "CPU times: user 0 ns, sys: 8.31 ms, total: 8.31 ms\n",
      "Wall time: 58.3 ms\n"
     ]
    }
   ],
   "source": [
    "%%time\n",
    "# Connect to an existing database\n",
    "with psycopg.connect(conninfo=db_url) as conn:\n",
    "    # Open a cursor to perform database operations\n",
    "    with conn.cursor() as cur:\n",
    "        # Execute a command: this creates a new table\n",
    "        res = cur.execute(\"\"\"\n",
    "            SELECT\n",
    "                id,\n",
    "                1 - (embedding <=> %s) AS cosine_similarity,\n",
    "                question,\n",
    "                reponse\n",
    "            FROM piaf ORDER BY cosine_similarity DESC LIMIT 10;\n",
    "        \"\"\", (str(embedding_query), )).fetchall()\n",
    "        for row in res:\n",
    "            print(f\"id : {row[0]} | score : {round(row[1], 4)} | Question : {row[2]} | Réponse : {row[3]}\")"
   ]
  },
  {
   "cell_type": "code",
   "execution_count": 71,
   "metadata": {},
   "outputs": [],
   "source": [
    "# Retourner les résultats dans une DataFrame\n",
    "def query_to_dataframe(query, column_names):\n",
    "\n",
    "    # Connect to an existing database\n",
    "    with psycopg.connect(conninfo=db_url) as conn:\n",
    "        # Open a cursor to perform database operations\n",
    "        with conn.cursor() as cur:\n",
    "            embeddings_query = model.encode(query).tolist()\n",
    "            # Execute a command: this creates a new table\n",
    "            res = cur.execute(\"\"\"\n",
    "                SELECT\n",
    "                    id,\n",
    "                    1 - (embedding <=> %s) AS cosine_similarity,\n",
    "                    question,\n",
    "                    reponse\n",
    "                FROM piaf ORDER BY cosine_similarity DESC LIMIT 10;\n",
    "            \"\"\", (str(embeddings_query), )).fetchall()\n",
    "    res_df = pd.DataFrame(res, columns=column_names)\n",
    "    return res_df"
   ]
  },
  {
   "cell_type": "code",
   "execution_count": 72,
   "metadata": {},
   "outputs": [
    {
     "name": "stdout",
     "output_type": "stream",
     "text": [
      "CPU times: user 42.7 ms, sys: 10.3 ms, total: 52.9 ms\n",
      "Wall time: 100 ms\n"
     ]
    },
    {
     "data": {
      "text/html": [
       "<div>\n",
       "<style scoped>\n",
       "    .dataframe tbody tr th:only-of-type {\n",
       "        vertical-align: middle;\n",
       "    }\n",
       "\n",
       "    .dataframe tbody tr th {\n",
       "        vertical-align: top;\n",
       "    }\n",
       "\n",
       "    .dataframe thead th {\n",
       "        text-align: right;\n",
       "    }\n",
       "</style>\n",
       "<table border=\"1\" class=\"dataframe\">\n",
       "  <thead>\n",
       "    <tr style=\"text-align: right;\">\n",
       "      <th></th>\n",
       "      <th>id</th>\n",
       "      <th>cosine_similarity</th>\n",
       "      <th>question</th>\n",
       "      <th>reponse</th>\n",
       "    </tr>\n",
       "  </thead>\n",
       "  <tbody>\n",
       "    <tr>\n",
       "      <th>0</th>\n",
       "      <td>7495</td>\n",
       "      <td>0.809619</td>\n",
       "      <td>Quelle est la date de la libération de Paris ?</td>\n",
       "      <td>25 août 1944</td>\n",
       "    </tr>\n",
       "    <tr>\n",
       "      <th>1</th>\n",
       "      <td>3763</td>\n",
       "      <td>0.740143</td>\n",
       "      <td>Quelle est la date de l’inauguration ?</td>\n",
       "      <td>le 11 octobre 1854</td>\n",
       "    </tr>\n",
       "    <tr>\n",
       "      <th>2</th>\n",
       "      <td>3762</td>\n",
       "      <td>0.740143</td>\n",
       "      <td>Quelle est la date de l’inauguration ?</td>\n",
       "      <td>11 octobre 1854</td>\n",
       "    </tr>\n",
       "    <tr>\n",
       "      <th>3</th>\n",
       "      <td>10373</td>\n",
       "      <td>0.723416</td>\n",
       "      <td>A quelle date ?</td>\n",
       "      <td>28 septembre 1746</td>\n",
       "    </tr>\n",
       "    <tr>\n",
       "      <th>4</th>\n",
       "      <td>4155</td>\n",
       "      <td>0.707283</td>\n",
       "      <td>quelle est la date de la réforme?</td>\n",
       "      <td>1995</td>\n",
       "    </tr>\n",
       "    <tr>\n",
       "      <th>5</th>\n",
       "      <td>4156</td>\n",
       "      <td>0.707283</td>\n",
       "      <td>quelle est la date de la réforme?</td>\n",
       "      <td>1995</td>\n",
       "    </tr>\n",
       "    <tr>\n",
       "      <th>6</th>\n",
       "      <td>2754</td>\n",
       "      <td>0.698089</td>\n",
       "      <td>Quelles est la date de création de la réserve ?</td>\n",
       "      <td>1991</td>\n",
       "    </tr>\n",
       "    <tr>\n",
       "      <th>7</th>\n",
       "      <td>2755</td>\n",
       "      <td>0.698089</td>\n",
       "      <td>Quelles est la date de création de la réserve ?</td>\n",
       "      <td>en 1991</td>\n",
       "    </tr>\n",
       "    <tr>\n",
       "      <th>8</th>\n",
       "      <td>9578</td>\n",
       "      <td>0.695604</td>\n",
       "      <td>Quelle est sa date de sortie?</td>\n",
       "      <td>1995</td>\n",
       "    </tr>\n",
       "    <tr>\n",
       "      <th>9</th>\n",
       "      <td>10448</td>\n",
       "      <td>0.665852</td>\n",
       "      <td>Quelle date pour la bataille ?</td>\n",
       "      <td>24 mars 1793</td>\n",
       "    </tr>\n",
       "  </tbody>\n",
       "</table>\n",
       "</div>"
      ],
      "text/plain": [
       "      id  cosine_similarity                                         question  \\\n",
       "0   7495           0.809619   Quelle est la date de la libération de Paris ?   \n",
       "1   3763           0.740143           Quelle est la date de l’inauguration ?   \n",
       "2   3762           0.740143           Quelle est la date de l’inauguration ?   \n",
       "3  10373           0.723416                                  A quelle date ?   \n",
       "4   4155           0.707283                quelle est la date de la réforme?   \n",
       "5   4156           0.707283                quelle est la date de la réforme?   \n",
       "6   2754           0.698089  Quelles est la date de création de la réserve ?   \n",
       "7   2755           0.698089  Quelles est la date de création de la réserve ?   \n",
       "8   9578           0.695604                    Quelle est sa date de sortie?   \n",
       "9  10448           0.665852                   Quelle date pour la bataille ?   \n",
       "\n",
       "              reponse  \n",
       "0        25 août 1944  \n",
       "1  le 11 octobre 1854  \n",
       "2     11 octobre 1854  \n",
       "3   28 septembre 1746  \n",
       "4                1995  \n",
       "5                1995  \n",
       "6                1991  \n",
       "7             en 1991  \n",
       "8                1995  \n",
       "9        24 mars 1793  "
      ]
     },
     "execution_count": 72,
     "metadata": {},
     "output_type": "execute_result"
    }
   ],
   "source": [
    "%%time\n",
    "# Cherchez une question en changeant cette requète\n",
    "query = \"Quelle est la date de la libération ?\"\n",
    "query_to_dataframe(query, ['id', 'cosine_similarity', 'question', 'reponse'])"
   ]
  },
  {
   "cell_type": "markdown",
   "metadata": {},
   "source": [
    "### Les plus proches voisins d'une ligne (id aléatoire)\n",
    "\n",
    "Résultats : \n",
    "- La première ligne est une ligne choisie au hasard dans la base de donnée.\n",
    "- Les lignes suivantes sont les lignes les plus proches sémantiquement, par ordre décroissant de similarité cosinus."
   ]
  },
  {
   "cell_type": "code",
   "execution_count": 73,
   "metadata": {},
   "outputs": [
    {
     "name": "stdout",
     "output_type": "stream",
     "text": [
      "Random id : 3858\n",
      "\n"
     ]
    },
    {
     "data": {
      "text/html": [
       "<div>\n",
       "<style scoped>\n",
       "    .dataframe tbody tr th:only-of-type {\n",
       "        vertical-align: middle;\n",
       "    }\n",
       "\n",
       "    .dataframe tbody tr th {\n",
       "        vertical-align: top;\n",
       "    }\n",
       "\n",
       "    .dataframe thead th {\n",
       "        text-align: right;\n",
       "    }\n",
       "</style>\n",
       "<table border=\"1\" class=\"dataframe\">\n",
       "  <thead>\n",
       "    <tr style=\"text-align: right;\">\n",
       "      <th></th>\n",
       "      <th>id</th>\n",
       "      <th>cosine_similarity</th>\n",
       "      <th>question</th>\n",
       "      <th>reponse</th>\n",
       "    </tr>\n",
       "  </thead>\n",
       "  <tbody>\n",
       "    <tr>\n",
       "      <th>0</th>\n",
       "      <td>3859</td>\n",
       "      <td>1.000000</td>\n",
       "      <td>Où vivent les Criollos ?</td>\n",
       "      <td>Mexique</td>\n",
       "    </tr>\n",
       "    <tr>\n",
       "      <th>1</th>\n",
       "      <td>3858</td>\n",
       "      <td>1.000000</td>\n",
       "      <td>Où vivent les Criollos ?</td>\n",
       "      <td>Nouvelle-Espagne</td>\n",
       "    </tr>\n",
       "    <tr>\n",
       "      <th>2</th>\n",
       "      <td>3860</td>\n",
       "      <td>0.652347</td>\n",
       "      <td>de quelle origine sont les criollos ?</td>\n",
       "      <td>le plus souvent d'Espagnols</td>\n",
       "    </tr>\n",
       "    <tr>\n",
       "      <th>3</th>\n",
       "      <td>4547</td>\n",
       "      <td>0.649301</td>\n",
       "      <td>Où vivent les chrétiens ?</td>\n",
       "      <td>dans des bidonvilles</td>\n",
       "    </tr>\n",
       "    <tr>\n",
       "      <th>4</th>\n",
       "      <td>3861</td>\n",
       "      <td>0.568433</td>\n",
       "      <td>comment les criollos désignent-ils les Espagno...</td>\n",
       "      <td>gachupines</td>\n",
       "    </tr>\n",
       "    <tr>\n",
       "      <th>5</th>\n",
       "      <td>3857</td>\n",
       "      <td>0.537032</td>\n",
       "      <td>De qui descendent les criollos ?</td>\n",
       "      <td>Européens</td>\n",
       "    </tr>\n",
       "    <tr>\n",
       "      <th>6</th>\n",
       "      <td>4546</td>\n",
       "      <td>0.515414</td>\n",
       "      <td>Que rencontrent les chrétiens ?</td>\n",
       "      <td>de nombreuses discriminations</td>\n",
       "    </tr>\n",
       "    <tr>\n",
       "      <th>7</th>\n",
       "      <td>10540</td>\n",
       "      <td>0.504854</td>\n",
       "      <td>Quels sont les oeuvres  de Curtis Civitas ?</td>\n",
       "      <td>Dei and World War, its Cause and Cure</td>\n",
       "    </tr>\n",
       "    <tr>\n",
       "      <th>8</th>\n",
       "      <td>8919</td>\n",
       "      <td>0.477239</td>\n",
       "      <td>Qui sont les scénaristes du septième épisode ?</td>\n",
       "      <td>Marcus Dunstan et Patrick Melton</td>\n",
       "    </tr>\n",
       "    <tr>\n",
       "      <th>9</th>\n",
       "      <td>9383</td>\n",
       "      <td>0.476903</td>\n",
       "      <td>Quels équipes jouent dans la Celtic League?</td>\n",
       "      <td>équipes galloises, irlandaises et italiennes</td>\n",
       "    </tr>\n",
       "    <tr>\n",
       "      <th>10</th>\n",
       "      <td>1651</td>\n",
       "      <td>0.469147</td>\n",
       "      <td>Qui observent les joueurs lors de matchs de la...</td>\n",
       "      <td>recruteurs de la NBA</td>\n",
       "    </tr>\n",
       "    <tr>\n",
       "      <th>11</th>\n",
       "      <td>1652</td>\n",
       "      <td>0.469147</td>\n",
       "      <td>Qui observent les joueurs lors de matchs de la...</td>\n",
       "      <td>recruteurs de la NBA</td>\n",
       "    </tr>\n",
       "    <tr>\n",
       "      <th>12</th>\n",
       "      <td>9031</td>\n",
       "      <td>0.462302</td>\n",
       "      <td>Qu'évoquent les protagonistes ?</td>\n",
       "      <td>de l'Apocalypse qui menace de détruire la Terre</td>\n",
       "    </tr>\n",
       "    <tr>\n",
       "      <th>13</th>\n",
       "      <td>10186</td>\n",
       "      <td>0.460993</td>\n",
       "      <td>Que veut dire le mot italien \"Bigollo\" ?</td>\n",
       "      <td>voyageur</td>\n",
       "    </tr>\n",
       "    <tr>\n",
       "      <th>14</th>\n",
       "      <td>251</td>\n",
       "      <td>0.460683</td>\n",
       "      <td>Comment sont accueillis les acadiens déportés ...</td>\n",
       "      <td>hostilité de la population locale</td>\n",
       "    </tr>\n",
       "    <tr>\n",
       "      <th>15</th>\n",
       "      <td>252</td>\n",
       "      <td>0.460683</td>\n",
       "      <td>Comment sont accueillis les acadiens déportés ...</td>\n",
       "      <td>hostilité</td>\n",
       "    </tr>\n",
       "    <tr>\n",
       "      <th>16</th>\n",
       "      <td>11457</td>\n",
       "      <td>0.459581</td>\n",
       "      <td>ou la chanteuse a vécu ?</td>\n",
       "      <td>Alaska</td>\n",
       "    </tr>\n",
       "    <tr>\n",
       "      <th>17</th>\n",
       "      <td>2802</td>\n",
       "      <td>0.457247</td>\n",
       "      <td>Combien de personnes travaillaient à la Ferme ...</td>\n",
       "      <td>des dizaines de milliers de personnes</td>\n",
       "    </tr>\n",
       "    <tr>\n",
       "      <th>18</th>\n",
       "      <td>9069</td>\n",
       "      <td>0.451226</td>\n",
       "      <td>Que portent les guerriers zoulous ?</td>\n",
       "      <td>des amulettes</td>\n",
       "    </tr>\n",
       "    <tr>\n",
       "      <th>19</th>\n",
       "      <td>9195</td>\n",
       "      <td>0.449714</td>\n",
       "      <td>Quels sont les principaux fondateurs de LCM ?</td>\n",
       "      <td>Pierre Boucaud (premier directeur général) et ...</td>\n",
       "    </tr>\n",
       "  </tbody>\n",
       "</table>\n",
       "</div>"
      ],
      "text/plain": [
       "       id  cosine_similarity  \\\n",
       "0    3859           1.000000   \n",
       "1    3858           1.000000   \n",
       "2    3860           0.652347   \n",
       "3    4547           0.649301   \n",
       "4    3861           0.568433   \n",
       "5    3857           0.537032   \n",
       "6    4546           0.515414   \n",
       "7   10540           0.504854   \n",
       "8    8919           0.477239   \n",
       "9    9383           0.476903   \n",
       "10   1651           0.469147   \n",
       "11   1652           0.469147   \n",
       "12   9031           0.462302   \n",
       "13  10186           0.460993   \n",
       "14    251           0.460683   \n",
       "15    252           0.460683   \n",
       "16  11457           0.459581   \n",
       "17   2802           0.457247   \n",
       "18   9069           0.451226   \n",
       "19   9195           0.449714   \n",
       "\n",
       "                                             question  \\\n",
       "0                            Où vivent les Criollos ?   \n",
       "1                            Où vivent les Criollos ?   \n",
       "2               de quelle origine sont les criollos ?   \n",
       "3                           Où vivent les chrétiens ?   \n",
       "4   comment les criollos désignent-ils les Espagno...   \n",
       "5                    De qui descendent les criollos ?   \n",
       "6                     Que rencontrent les chrétiens ?   \n",
       "7         Quels sont les oeuvres  de Curtis Civitas ?   \n",
       "8      Qui sont les scénaristes du septième épisode ?   \n",
       "9         Quels équipes jouent dans la Celtic League?   \n",
       "10  Qui observent les joueurs lors de matchs de la...   \n",
       "11  Qui observent les joueurs lors de matchs de la...   \n",
       "12                    Qu'évoquent les protagonistes ?   \n",
       "13           Que veut dire le mot italien \"Bigollo\" ?   \n",
       "14  Comment sont accueillis les acadiens déportés ...   \n",
       "15  Comment sont accueillis les acadiens déportés ...   \n",
       "16                           ou la chanteuse a vécu ?   \n",
       "17  Combien de personnes travaillaient à la Ferme ...   \n",
       "18                Que portent les guerriers zoulous ?   \n",
       "19      Quels sont les principaux fondateurs de LCM ?   \n",
       "\n",
       "                                              reponse  \n",
       "0                                             Mexique  \n",
       "1                                    Nouvelle-Espagne  \n",
       "2                         le plus souvent d'Espagnols  \n",
       "3                                dans des bidonvilles  \n",
       "4                                          gachupines  \n",
       "5                                           Européens  \n",
       "6                       de nombreuses discriminations  \n",
       "7               Dei and World War, its Cause and Cure  \n",
       "8                    Marcus Dunstan et Patrick Melton  \n",
       "9        équipes galloises, irlandaises et italiennes  \n",
       "10                               recruteurs de la NBA  \n",
       "11                               recruteurs de la NBA  \n",
       "12    de l'Apocalypse qui menace de détruire la Terre  \n",
       "13                                           voyageur  \n",
       "14                  hostilité de la population locale  \n",
       "15                                          hostilité  \n",
       "16                                             Alaska  \n",
       "17              des dizaines de milliers de personnes  \n",
       "18                                      des amulettes  \n",
       "19  Pierre Boucaud (premier directeur général) et ...  "
      ]
     },
     "execution_count": 73,
     "metadata": {},
     "output_type": "execute_result"
    }
   ],
   "source": [
    "import random\n",
    "rand_id = random.randint(0,11812)\n",
    "\n",
    "print(f\"Random id : {rand_id}\")\n",
    "print()\n",
    "\n",
    "# Connect to an existing database\n",
    "with psycopg.connect(conninfo=db_url) as conn:\n",
    "    # Open a cursor to perform database operations\n",
    "    with conn.cursor() as cur:\n",
    "\n",
    "        res = cur.execute(\"\"\"\n",
    "            SELECT\n",
    "            id,\n",
    "            1 - (embedding <=> (SELECT embedding FROM piaf WHERE id = %s)) AS cosine_similarity,\n",
    "            question,\n",
    "            reponse          \n",
    "            FROM piaf\n",
    "            ORDER BY cosine_similarity DESC LIMIT 20;\n",
    "        \"\"\", (rand_id, )).fetchall()\n",
    "\n",
    "        res_df = pd.DataFrame(res, columns=['id', 'cosine_similarity', 'question', 'reponse'])\n",
    "res_df"
   ]
  }
 ],
 "metadata": {
  "kernelspec": {
   "display_name": ".venv",
   "language": "python",
   "name": "python3"
  },
  "language_info": {
   "codemirror_mode": {
    "name": "ipython",
    "version": 3
   },
   "file_extension": ".py",
   "mimetype": "text/x-python",
   "name": "python",
   "nbconvert_exporter": "python",
   "pygments_lexer": "ipython3",
   "version": "3.10.12"
  }
 },
 "nbformat": 4,
 "nbformat_minor": 2
}
