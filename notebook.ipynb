{
 "cells": [
  {
   "cell_type": "markdown",
   "metadata": {},
   "source": [
    "# Comment créer une base de données vectorielle avec PostgreSLQ et pgvector\n",
    "\n",
    "## Etapes\n",
    "\n",
    "1. Créer la BDD PostgreSQL + pgvector dans un conteneur Docker\n",
    "2. Se connecter avec psql ou pgAdmin (pour vérification)\n",
    "3. Importer les données (textes)\n",
    "4. Créer les vecteurs avec Sentence Transformers\n",
    "5. Créer une table 'quora' dans la BDD\n",
    "6. Sauvegarder les données et les vecteurs dans la BDD\n",
    "7. Utiliser la recherche vectorielle "
   ]
  },
  {
   "cell_type": "markdown",
   "metadata": {},
   "source": [
    "## 🐳 Docker : Créer la BDD PostgreSQL + pgvector avec dans un conteneur \n",
    "\n",
    "### 1. `Docker-compose.yaml`\n",
    "\n",
    "Tout d'abord, nous devons créer un fichier `docker-compose.yml` avec les services nécessaires.\n",
    "\n",
    "Dans ce fichier, nous définissons un service appelé `db` qui est basé sur l'image Docker `pgvector/pgvector:pg16`. Le service expose le port `5432` pour interagir avec la base de données et configure des variables d'environnement pour le nom de la base de données, l'utilisateur, le mot de passe et la méthode d'authentification. De plus, nous montons un fichier `init.sql` dans le répertoire `/docker-entrypoint-initdb.d` à l'intérieur du conteneur à des fins d'initialisation.\n",
    "\n",
    "### 2. Fichier `init.sql`\n",
    "\n",
    "Dans ce script `init.sql`, nous activons l'extension `pgvector`, si elle n'existe pas déjà. Ensuite, nous créons une table appelée `embedding` avec les colonnes : `id`, `embedding`, `text` et `created_at`.\n",
    "\n",
    "```\n",
    "CREATE EXTENSION IF NOT EXISTS vector;\n",
    "\n",
    "CREATE TABLE IF NOT EXISTS embeddings (\n",
    "  id SERIAL PRIMARY KEY,\n",
    "  embedding vector,\n",
    "  text text,\n",
    "  created_at timestamptz DEFAULT now()\n",
    ");\n",
    "```\n",
    "\n",
    "### 3. Créer le conteneur\n",
    "\n",
    "```\n",
    "docker-compose up -d\n",
    "```\n",
    "\n",
    "Cette commande créera un conteneur Docker avec le serveur PostgreSQL et l'extension `pgvector` déjà installés et configurés, en fonction des spécifications du fichier `docker-compose.yml`."
   ]
  },
  {
   "cell_type": "markdown",
   "metadata": {},
   "source": [
    "## 🔌 Se connecter avec psql (dans le conteneur)\n",
    "\n",
    "### Aller dans le conteneur\n",
    "\n",
    "`docker exec -it <container id> bash`\n",
    "\n",
    "### Se conncter à la base de donnée avec `psql`\n",
    "\n",
    "`psql -h localhost -U testuser -d vectordb`"
   ]
  },
  {
   "cell_type": "markdown",
   "metadata": {},
   "source": [
    "## 📚 Importation des bibliothèques Python"
   ]
  },
  {
   "cell_type": "code",
   "execution_count": null,
   "metadata": {},
   "outputs": [],
   "source": [
    "# ! pip install sentence-transformers \"psycopg[binary]\" --quiet"
   ]
  },
  {
   "cell_type": "code",
   "execution_count": 1,
   "metadata": {},
   "outputs": [
    {
     "ename": "ModuleNotFoundError",
     "evalue": "No module named 'numpy'",
     "output_type": "error",
     "traceback": [
      "\u001b[0;31m---------------------------------------------------------------------------\u001b[0m",
      "\u001b[0;31mModuleNotFoundError\u001b[0m                       Traceback (most recent call last)",
      "Cell \u001b[0;32mIn[1], line 4\u001b[0m\n\u001b[1;32m      1\u001b[0m \u001b[38;5;28;01mimport\u001b[39;00m \u001b[38;5;21;01mos\u001b[39;00m\n\u001b[1;32m      2\u001b[0m \u001b[38;5;28;01mimport\u001b[39;00m \u001b[38;5;21;01mtime\u001b[39;00m\n\u001b[0;32m----> 4\u001b[0m \u001b[38;5;28;01mimport\u001b[39;00m \u001b[38;5;21;01mnumpy\u001b[39;00m \u001b[38;5;28;01mas\u001b[39;00m \u001b[38;5;21;01mnp\u001b[39;00m\n\u001b[1;32m      5\u001b[0m \u001b[38;5;28;01mimport\u001b[39;00m \u001b[38;5;21;01mpandas\u001b[39;00m \u001b[38;5;28;01mas\u001b[39;00m \u001b[38;5;21;01mpd\u001b[39;00m\n\u001b[1;32m      6\u001b[0m \u001b[38;5;28;01mfrom\u001b[39;00m \u001b[38;5;21;01msentence_transformers\u001b[39;00m \u001b[38;5;28;01mimport\u001b[39;00m SentenceTransformer\n",
      "\u001b[0;31mModuleNotFoundError\u001b[0m: No module named 'numpy'"
     ]
    }
   ],
   "source": [
    "import os\n",
    "import time\n",
    "\n",
    "import numpy as np\n",
    "import pandas as pd\n",
    "from sentence_transformers import SentenceTransformer\n",
    "import psycopg\n",
    "from pgvector.psycopg import register_vector"
   ]
  },
  {
   "cell_type": "markdown",
   "metadata": {},
   "source": [
    "## 3. Importer le jeu de données (textes)\n",
    "\n",
    "Le jeu de donnée consiste en **11812 paires de question-réponses**, extraites du dataset **\"piaf v1.2\"**, disponible sur https://www.data.gouv.fr/. L'objectif est de créer des représentations vectorielles pour les questions avec un modèle **Sentence Transformers (sBert)**. Ainsi, nous pourrons effectuer une **recherche sémantique** dans les questions depuis une requète textuelle ou **trouver les questions les plus similaires** entre elles.\n",
    "\n",
    "|  | Description |\n",
    "| --- | --- |\n",
    "| Nom du fichier | question-reponse-sans-texte.csv |\n",
    "| Description du fichier | Extraction des questions-réponses à partir du fichier piaf-v1.2.json pour les visualiser au format CSV |\n",
    "| Colonnes | 2 colonnes: ['question', 'reponse'] |\n",
    "| Lignes | 11812 lignes | \n",
    "| Type MIME | text/csv |\n",
    "| Créée le | 25 mars 2021 |\n",
    "| Taille | 990.9Ko |\n",
    "\n",
    "- https://www.data.gouv.fr/fr/datasets/piaf-le-dataset-francophone-de-questions-reponses/"
   ]
  },
  {
   "cell_type": "code",
   "execution_count": 2,
   "metadata": {},
   "outputs": [],
   "source": [
    "# question-reponse-sans-texte.csv\n",
    "dataset_url = \"https://www.data.gouv.fr/fr/datasets/r/14159082-d1be-417e-a67c-c3c494c7a4ad\"\n",
    "\n",
    "dataset_df = pd.read_csv(dataset_url)"
   ]
  },
  {
   "cell_type": "code",
   "execution_count": 3,
   "metadata": {},
   "outputs": [
    {
     "data": {
      "text/plain": [
       "(11812, 2)"
      ]
     },
     "execution_count": 3,
     "metadata": {},
     "output_type": "execute_result"
    }
   ],
   "source": [
    "dataset_df.shape"
   ]
  },
  {
   "cell_type": "code",
   "execution_count": 4,
   "metadata": {},
   "outputs": [],
   "source": [
    "corpus_questions = dataset_df.loc[:, 'question'].tolist()\n",
    "corpus_reponses = dataset_df.loc[:, 'reponse'].tolist()"
   ]
  },
  {
   "cell_type": "code",
   "execution_count": 6,
   "metadata": {},
   "outputs": [
    {
     "name": "stdout",
     "output_type": "stream",
     "text": [
      "Quel architecte fût à l'origine des plans du Woolworth building? => Cass Gilbert\n",
      "Où se trouvait Franck Woolworth lors de l'inauguration de son immeuble New Yorkais ? => Washington\n",
      "Comment fût payé le bâtiment commandé par Franck Woolworth? => en cash\n",
      "En quelle année ouvrit le Woolworth Building ? => 1913\n",
      "Qui commanda la construction du Woolworth Building ? => Frank Woolworth\n",
      "Quelle femme devint reine aux côtés de Philippe le Bel ? => Jeanne Ire de Navarre\n",
      "Quel créancier du roi fut supprimé en 1312 ? => l'ordre du Temple\n",
      "Quel créancier du roi fut supprimé en 1312 ? => l'ordre du Temple\n",
      "Quelle raison pousse Philippe Le Bel à organiser les premiers Etats généraux ? => pour lever de nouveaux impôts\n",
      "Quel souverain utilise les dévaluations monétaires pour s'enrichir ? => Philippe IV le Bel\n"
     ]
    }
   ],
   "source": [
    "# Afficher les 10 premières paires de question-réponse.\n",
    "for question, reponse in zip(corpus_questions[:10], corpus_reponses[:10]):\n",
    "    print(f\"{question} => {reponse}\")"
   ]
  },
  {
   "cell_type": "markdown",
   "metadata": {},
   "source": [
    "## 4. Encoder les questions avec Sentence Transformers\n",
    "\n",
    "**SentenceTransformers** est un framework Python pour la création de représentations vectorielles de phrases, de textes et d'images.\n",
    "\n",
    "- https://www.sbert.net/index.html\n",
    "- https://huggingface.co/dangvantuan/sentence-camembert-base"
   ]
  },
  {
   "cell_type": "code",
   "execution_count": 109,
   "metadata": {},
   "outputs": [],
   "source": [
    "# Modèle Sentence Transformer pour l'encodage du jeu de données ou de la requète de recherche sémantique\n",
    "# Modèle pré-entraîné d'encodage de textes en français\n",
    "model_name = \"dangvantuan/sentence-camembert-base\" # vector size = 768\n",
    "model = SentenceTransformer(model_name, device='cuda')"
   ]
  },
  {
   "cell_type": "code",
   "execution_count": null,
   "metadata": {},
   "outputs": [],
   "source": [
    "questions_embeddings = model.encode(corpus_questions, show_progress_bar=True)"
   ]
  },
  {
   "cell_type": "markdown",
   "metadata": {},
   "source": [
    "## 5. Sauvegarder les données et les vecteurs dans la BDD\n",
    "\n",
    "- **Pyscopg3** : https://www.psycopg.org/psycopg3/docs/basic/usage.html"
   ]
  },
  {
   "cell_type": "code",
   "execution_count": 127,
   "metadata": {},
   "outputs": [],
   "source": [
    "# DEFINE THE DATABASE CREDENTIALS\n",
    "user = 'testuser'\n",
    "password = 'testpwd'\n",
    "host = 'localhost'\n",
    "port = 5432\n",
    "database = 'vectordb'\n",
    "\n",
    "db_url = f\"postgresql://{user}:{password}@{host}:{port}/{database}\""
   ]
  },
  {
   "cell_type": "code",
   "execution_count": 152,
   "metadata": {},
   "outputs": [
    {
     "name": "stdout",
     "output_type": "stream",
     "text": [
      "CPU times: user 1.03 s, sys: 303 ms, total: 1.33 s\n",
      "Wall time: 13.8 s\n"
     ]
    }
   ],
   "source": [
    "%%time\n",
    "# Connect to an existing database\n",
    "with psycopg.connect(conninfo=db_url) as conn:\n",
    "    # Activation de l'extension pgvector (si elle n'existe pas déjà)\n",
    "    conn.execute(\"CREATE EXTENSION IF NOT EXISTS vector;\")\n",
    "    # Enregistrez le type 'vecteur' avec votre connexion\n",
    "    register_vector(conn)\n",
    "    # Effacement de la table (si elle n'existe pas déjà)\n",
    "    conn.execute(\"\"\"DROP TABLE IF EXISTS piaf CASCADE;\"\"\")\n",
    "    # Création de la table\n",
    "    conn.execute(\"\"\"\n",
    "        CREATE TABLE IF NOT EXISTS piaf (\n",
    "            id serial PRIMARY KEY,\n",
    "            question text NOT NULL,\n",
    "            reponse text NOT NULL,\n",
    "            embedding vector(768) NOT NULL,\n",
    "            created_at timestamptz DEFAULT now()\n",
    "            );\n",
    "        \"\"\")\n",
    "    # Sauvegarde des questions/reponses et des vecteurs\n",
    "    for question, reponse, embedding in zip(corpus_questions, corpus_reponses, questions_embeddings):\n",
    "        conn.execute(\"\"\"INSERT INTO piaf (question, reponse, embedding) VALUES (%s, %s, %s);\"\"\", (question, reponse, embedding))\n",
    "    # AJouter un index (recherche approximative)\n",
    "    conn.execute('CREATE INDEX IF NOT EXISTS idx_piaf_hnsw ON piaf USING hnsw (embedding vector_cosine_ops) WITH (m = 8, ef_construction = 24);')\n",
    "    # Make the changes to the database persistent\n",
    "    conn.commit()"
   ]
  },
  {
   "cell_type": "markdown",
   "metadata": {},
   "source": [
    "## 6. Utiliser la recherche vectorielle "
   ]
  },
  {
   "cell_type": "markdown",
   "metadata": {},
   "source": [
    "- https://huggingface.co/sentence-transformers/quora-distilbert-multilingual"
   ]
  },
  {
   "cell_type": "markdown",
   "metadata": {},
   "source": [
    "### Rechercher par requète textuelle"
   ]
  },
  {
   "cell_type": "code",
   "execution_count": 129,
   "metadata": {},
   "outputs": [
    {
     "name": "stdout",
     "output_type": "stream",
     "text": [
      "CPU times: user 59.1 ms, sys: 0 ns, total: 59.1 ms\n",
      "Wall time: 58.1 ms\n"
     ]
    }
   ],
   "source": [
    "%%time\n",
    "query = \"quelle est la date de la libération ?\"\n",
    "\n",
    "# Encoder la requète avec Sentence Transformers\n",
    "embedding_query = model.encode(query)"
   ]
  },
  {
   "cell_type": "code",
   "execution_count": 132,
   "metadata": {},
   "outputs": [
    {
     "name": "stdout",
     "output_type": "stream",
     "text": [
      "id : 7495 | score : 0.7975 | Question : Quelle est la date de la libération de Paris ? | Réponse : 25 août 1944\n",
      "id : 3762 | score : 0.7365 | Question : Quelle est la date de l’inauguration ? | Réponse : 11 octobre 1854\n",
      "id : 3763 | score : 0.7365 | Question : Quelle est la date de l’inauguration ? | Réponse : le 11 octobre 1854\n",
      "id : 10373 | score : 0.7156 | Question : A quelle date ? | Réponse : 28 septembre 1746\n",
      "id : 2754 | score : 0.7 | Question : Quelles est la date de création de la réserve ? | Réponse : 1991\n",
      "id : 2755 | score : 0.7 | Question : Quelles est la date de création de la réserve ? | Réponse : en 1991\n",
      "id : 4156 | score : 0.6995 | Question : quelle est la date de la réforme? | Réponse : 1995\n",
      "id : 4155 | score : 0.6995 | Question : quelle est la date de la réforme? | Réponse : 1995\n",
      "id : 9578 | score : 0.6947 | Question : Quelle est sa date de sortie? | Réponse : 1995\n",
      "id : 10037 | score : 0.6606 | Question : Quelle est la date de création du Comité? | Réponse : 18 décembre 2012\n",
      "CPU times: user 8.93 ms, sys: 0 ns, total: 8.93 ms\n",
      "Wall time: 63.4 ms\n"
     ]
    }
   ],
   "source": [
    "%%time\n",
    "# Connect to an existing database\n",
    "with psycopg.connect(conninfo=db_url) as conn:\n",
    "    # Enregistrez le type 'vecteur' avec votre connexion\n",
    "    register_vector(conn)\n",
    "    # Executer la commande\n",
    "    res = conn.execute(\"\"\"\n",
    "        SELECT\n",
    "            id,\n",
    "            1 - (embedding <=> %s) AS cosine_similarity,\n",
    "            question,\n",
    "            reponse\n",
    "        FROM piaf ORDER BY cosine_similarity DESC LIMIT 10;\n",
    "    \"\"\", (embedding_query, )).fetchall()\n",
    "\n",
    "    for row in res:\n",
    "        print(f\"id : {row[0]} | score : {round(row[1], 4)} | Question : {row[2]} | Réponse : {row[3]}\")"
   ]
  },
  {
   "cell_type": "code",
   "execution_count": 134,
   "metadata": {},
   "outputs": [],
   "source": [
    "# Retourner les résultats dans une DataFrame\n",
    "def query_to_dataframe(query, column_names):\n",
    "\n",
    "    # Connect to an existing database\n",
    "    with psycopg.connect(conninfo=db_url) as conn:\n",
    "        # Enregistrez le type 'vecteur' avec votre connexion\n",
    "        register_vector(conn)\n",
    "        embeddings_query = model.encode(query)\n",
    "        # Execute a command: this creates a new table\n",
    "        res = conn.execute(\"\"\"\n",
    "            SELECT\n",
    "                id,\n",
    "                1 - (embedding <=> %s) AS cosine_similarity,\n",
    "                question,\n",
    "                reponse\n",
    "            FROM piaf ORDER BY cosine_similarity DESC LIMIT 10;\n",
    "        \"\"\", (embeddings_query, )).fetchall()\n",
    "        res_df = pd.DataFrame(res, columns=column_names)\n",
    "        return res_df"
   ]
  },
  {
   "cell_type": "code",
   "execution_count": 137,
   "metadata": {},
   "outputs": [
    {
     "name": "stdout",
     "output_type": "stream",
     "text": [
      "CPU times: user 54.4 ms, sys: 0 ns, total: 54.4 ms\n",
      "Wall time: 113 ms\n"
     ]
    },
    {
     "data": {
      "text/html": [
       "<div>\n",
       "<style scoped>\n",
       "    .dataframe tbody tr th:only-of-type {\n",
       "        vertical-align: middle;\n",
       "    }\n",
       "\n",
       "    .dataframe tbody tr th {\n",
       "        vertical-align: top;\n",
       "    }\n",
       "\n",
       "    .dataframe thead th {\n",
       "        text-align: right;\n",
       "    }\n",
       "</style>\n",
       "<table border=\"1\" class=\"dataframe\">\n",
       "  <thead>\n",
       "    <tr style=\"text-align: right;\">\n",
       "      <th></th>\n",
       "      <th>id</th>\n",
       "      <th>cosine_similarity</th>\n",
       "      <th>question</th>\n",
       "      <th>reponse</th>\n",
       "    </tr>\n",
       "  </thead>\n",
       "  <tbody>\n",
       "    <tr>\n",
       "      <th>0</th>\n",
       "      <td>7495</td>\n",
       "      <td>0.809619</td>\n",
       "      <td>Quelle est la date de la libération de Paris ?</td>\n",
       "      <td>25 août 1944</td>\n",
       "    </tr>\n",
       "    <tr>\n",
       "      <th>1</th>\n",
       "      <td>3763</td>\n",
       "      <td>0.740143</td>\n",
       "      <td>Quelle est la date de l’inauguration ?</td>\n",
       "      <td>le 11 octobre 1854</td>\n",
       "    </tr>\n",
       "    <tr>\n",
       "      <th>2</th>\n",
       "      <td>3762</td>\n",
       "      <td>0.740143</td>\n",
       "      <td>Quelle est la date de l’inauguration ?</td>\n",
       "      <td>11 octobre 1854</td>\n",
       "    </tr>\n",
       "    <tr>\n",
       "      <th>3</th>\n",
       "      <td>10373</td>\n",
       "      <td>0.723416</td>\n",
       "      <td>A quelle date ?</td>\n",
       "      <td>28 septembre 1746</td>\n",
       "    </tr>\n",
       "    <tr>\n",
       "      <th>4</th>\n",
       "      <td>4155</td>\n",
       "      <td>0.707283</td>\n",
       "      <td>quelle est la date de la réforme?</td>\n",
       "      <td>1995</td>\n",
       "    </tr>\n",
       "    <tr>\n",
       "      <th>5</th>\n",
       "      <td>4156</td>\n",
       "      <td>0.707283</td>\n",
       "      <td>quelle est la date de la réforme?</td>\n",
       "      <td>1995</td>\n",
       "    </tr>\n",
       "    <tr>\n",
       "      <th>6</th>\n",
       "      <td>2754</td>\n",
       "      <td>0.698089</td>\n",
       "      <td>Quelles est la date de création de la réserve ?</td>\n",
       "      <td>1991</td>\n",
       "    </tr>\n",
       "    <tr>\n",
       "      <th>7</th>\n",
       "      <td>2755</td>\n",
       "      <td>0.698089</td>\n",
       "      <td>Quelles est la date de création de la réserve ?</td>\n",
       "      <td>en 1991</td>\n",
       "    </tr>\n",
       "    <tr>\n",
       "      <th>8</th>\n",
       "      <td>9578</td>\n",
       "      <td>0.695604</td>\n",
       "      <td>Quelle est sa date de sortie?</td>\n",
       "      <td>1995</td>\n",
       "    </tr>\n",
       "    <tr>\n",
       "      <th>9</th>\n",
       "      <td>10448</td>\n",
       "      <td>0.665852</td>\n",
       "      <td>Quelle date pour la bataille ?</td>\n",
       "      <td>24 mars 1793</td>\n",
       "    </tr>\n",
       "  </tbody>\n",
       "</table>\n",
       "</div>"
      ],
      "text/plain": [
       "      id  cosine_similarity                                         question  \\\n",
       "0   7495           0.809619   Quelle est la date de la libération de Paris ?   \n",
       "1   3763           0.740143           Quelle est la date de l’inauguration ?   \n",
       "2   3762           0.740143           Quelle est la date de l’inauguration ?   \n",
       "3  10373           0.723416                                  A quelle date ?   \n",
       "4   4155           0.707283                quelle est la date de la réforme?   \n",
       "5   4156           0.707283                quelle est la date de la réforme?   \n",
       "6   2754           0.698089  Quelles est la date de création de la réserve ?   \n",
       "7   2755           0.698089  Quelles est la date de création de la réserve ?   \n",
       "8   9578           0.695604                    Quelle est sa date de sortie?   \n",
       "9  10448           0.665852                   Quelle date pour la bataille ?   \n",
       "\n",
       "              reponse  \n",
       "0        25 août 1944  \n",
       "1  le 11 octobre 1854  \n",
       "2     11 octobre 1854  \n",
       "3   28 septembre 1746  \n",
       "4                1995  \n",
       "5                1995  \n",
       "6                1991  \n",
       "7             en 1991  \n",
       "8                1995  \n",
       "9        24 mars 1793  "
      ]
     },
     "execution_count": 137,
     "metadata": {},
     "output_type": "execute_result"
    }
   ],
   "source": [
    "%%time\n",
    "# Cherchez une question en changeant cette requète\n",
    "query = \"Quelle est la date de la libération ?\"\n",
    "query_to_dataframe(query, ['id', 'cosine_similarity', 'question', 'reponse'])"
   ]
  },
  {
   "cell_type": "markdown",
   "metadata": {},
   "source": [
    "### Les plus proches voisins d'une ligne (id aléatoire)\n",
    "\n",
    "Résultats : \n",
    "- La première ligne est une ligne choisie au hasard dans la base de donnée.\n",
    "- Les lignes suivantes sont les lignes les plus proches sémantiquement, par ordre décroissant de similarité cosinus."
   ]
  },
  {
   "cell_type": "code",
   "execution_count": 148,
   "metadata": {},
   "outputs": [
    {
     "name": "stdout",
     "output_type": "stream",
     "text": [
      "id aléatoire : 289\n",
      "\n"
     ]
    },
    {
     "data": {
      "text/html": [
       "<div>\n",
       "<style scoped>\n",
       "    .dataframe tbody tr th:only-of-type {\n",
       "        vertical-align: middle;\n",
       "    }\n",
       "\n",
       "    .dataframe tbody tr th {\n",
       "        vertical-align: top;\n",
       "    }\n",
       "\n",
       "    .dataframe thead th {\n",
       "        text-align: right;\n",
       "    }\n",
       "</style>\n",
       "<table border=\"1\" class=\"dataframe\">\n",
       "  <thead>\n",
       "    <tr style=\"text-align: right;\">\n",
       "      <th></th>\n",
       "      <th>id</th>\n",
       "      <th>cosine_similarity</th>\n",
       "      <th>question</th>\n",
       "      <th>reponse</th>\n",
       "    </tr>\n",
       "  </thead>\n",
       "  <tbody>\n",
       "    <tr>\n",
       "      <th>0</th>\n",
       "      <td>289</td>\n",
       "      <td>1.000000</td>\n",
       "      <td>Quel métier exerce Pierre-Jakez Hélias à Rennes ?</td>\n",
       "      <td>professeur</td>\n",
       "    </tr>\n",
       "    <tr>\n",
       "      <th>1</th>\n",
       "      <td>294</td>\n",
       "      <td>0.735688</td>\n",
       "      <td>Quel métier a exercé Pierre-Jakez Hélias au jo...</td>\n",
       "      <td>rédacteur en chef</td>\n",
       "    </tr>\n",
       "    <tr>\n",
       "      <th>2</th>\n",
       "      <td>297</td>\n",
       "      <td>0.733118</td>\n",
       "      <td>Avec qui étudie Pierre-Jakez Hélias à Rennes ?</td>\n",
       "      <td>Paul Ricœur et Pierre Hervé</td>\n",
       "    </tr>\n",
       "    <tr>\n",
       "      <th>3</th>\n",
       "      <td>298</td>\n",
       "      <td>0.733118</td>\n",
       "      <td>Avec qui étudie Pierre-Jakez Hélias à Rennes ?</td>\n",
       "      <td>Paul Ricœur et Pierre Hervé</td>\n",
       "    </tr>\n",
       "    <tr>\n",
       "      <th>4</th>\n",
       "      <td>290</td>\n",
       "      <td>0.668872</td>\n",
       "      <td>Quel événement historique marque un changement...</td>\n",
       "      <td>Libération</td>\n",
       "    </tr>\n",
       "    <tr>\n",
       "      <th>5</th>\n",
       "      <td>312</td>\n",
       "      <td>0.611864</td>\n",
       "      <td>Dans quel régiment a officié le père de Pierre...</td>\n",
       "      <td>35° d'artillerie</td>\n",
       "    </tr>\n",
       "    <tr>\n",
       "      <th>6</th>\n",
       "      <td>313</td>\n",
       "      <td>0.611864</td>\n",
       "      <td>Dans quel régiment a officié le père de Pierre...</td>\n",
       "      <td>au 35° d'artillerie</td>\n",
       "    </tr>\n",
       "    <tr>\n",
       "      <th>7</th>\n",
       "      <td>301</td>\n",
       "      <td>0.595106</td>\n",
       "      <td>Quel choix aurait pu faire Pierre-Jakez Hélias...</td>\n",
       "      <td>entrer dans la vie active</td>\n",
       "    </tr>\n",
       "    <tr>\n",
       "      <th>8</th>\n",
       "      <td>300</td>\n",
       "      <td>0.595106</td>\n",
       "      <td>Quel choix aurait pu faire Pierre-Jakez Hélias...</td>\n",
       "      <td>entrer dans la vie active</td>\n",
       "    </tr>\n",
       "    <tr>\n",
       "      <th>9</th>\n",
       "      <td>299</td>\n",
       "      <td>0.595106</td>\n",
       "      <td>Quel choix aurait pu faire Pierre-Jakez Hélias...</td>\n",
       "      <td>entrer dans la vie active</td>\n",
       "    </tr>\n",
       "    <tr>\n",
       "      <th>10</th>\n",
       "      <td>314</td>\n",
       "      <td>0.585908</td>\n",
       "      <td>Quelle est la langue maternelle de Pierre-Jake...</td>\n",
       "      <td>bretonnant</td>\n",
       "    </tr>\n",
       "    <tr>\n",
       "      <th>11</th>\n",
       "      <td>447</td>\n",
       "      <td>0.585383</td>\n",
       "      <td>Dans quelle situation de richesse se trouve la...</td>\n",
       "      <td>pauvres</td>\n",
       "    </tr>\n",
       "    <tr>\n",
       "      <th>12</th>\n",
       "      <td>311</td>\n",
       "      <td>0.584046</td>\n",
       "      <td>Quel événement a fait que Pierre-Alain Hélias ...</td>\n",
       "      <td>guerre</td>\n",
       "    </tr>\n",
       "    <tr>\n",
       "      <th>13</th>\n",
       "      <td>310</td>\n",
       "      <td>0.584046</td>\n",
       "      <td>Quel événement a fait que Pierre-Alain Hélias ...</td>\n",
       "      <td>la guerre</td>\n",
       "    </tr>\n",
       "    <tr>\n",
       "      <th>14</th>\n",
       "      <td>309</td>\n",
       "      <td>0.584046</td>\n",
       "      <td>Quel événement a fait que Pierre-Alain Hélias ...</td>\n",
       "      <td>la guerre</td>\n",
       "    </tr>\n",
       "    <tr>\n",
       "      <th>15</th>\n",
       "      <td>292</td>\n",
       "      <td>0.568844</td>\n",
       "      <td>Comment Pierre-Jakez Hélias s'est-il impliqué ...</td>\n",
       "      <td>il participe à la résistance</td>\n",
       "    </tr>\n",
       "    <tr>\n",
       "      <th>16</th>\n",
       "      <td>291</td>\n",
       "      <td>0.568844</td>\n",
       "      <td>Comment Pierre-Jakez Hélias s'est-il impliqué ...</td>\n",
       "      <td>participe à la résistance</td>\n",
       "    </tr>\n",
       "    <tr>\n",
       "      <th>17</th>\n",
       "      <td>316</td>\n",
       "      <td>0.536618</td>\n",
       "      <td>Quelle relation familiale a Pierre-Jakez Hélia...</td>\n",
       "      <td>oncles</td>\n",
       "    </tr>\n",
       "    <tr>\n",
       "      <th>18</th>\n",
       "      <td>317</td>\n",
       "      <td>0.536618</td>\n",
       "      <td>Quelle relation familiale a Pierre-Jakez Hélia...</td>\n",
       "      <td>oncles</td>\n",
       "    </tr>\n",
       "    <tr>\n",
       "      <th>19</th>\n",
       "      <td>307</td>\n",
       "      <td>0.527176</td>\n",
       "      <td>A quel endroit Pierre-Alain Hélias a travaillé...</td>\n",
       "      <td>à la scierie du village</td>\n",
       "    </tr>\n",
       "  </tbody>\n",
       "</table>\n",
       "</div>"
      ],
      "text/plain": [
       "     id  cosine_similarity                                           question  \\\n",
       "0   289           1.000000  Quel métier exerce Pierre-Jakez Hélias à Rennes ?   \n",
       "1   294           0.735688  Quel métier a exercé Pierre-Jakez Hélias au jo...   \n",
       "2   297           0.733118     Avec qui étudie Pierre-Jakez Hélias à Rennes ?   \n",
       "3   298           0.733118     Avec qui étudie Pierre-Jakez Hélias à Rennes ?   \n",
       "4   290           0.668872  Quel événement historique marque un changement...   \n",
       "5   312           0.611864  Dans quel régiment a officié le père de Pierre...   \n",
       "6   313           0.611864  Dans quel régiment a officié le père de Pierre...   \n",
       "7   301           0.595106  Quel choix aurait pu faire Pierre-Jakez Hélias...   \n",
       "8   300           0.595106  Quel choix aurait pu faire Pierre-Jakez Hélias...   \n",
       "9   299           0.595106  Quel choix aurait pu faire Pierre-Jakez Hélias...   \n",
       "10  314           0.585908  Quelle est la langue maternelle de Pierre-Jake...   \n",
       "11  447           0.585383  Dans quelle situation de richesse se trouve la...   \n",
       "12  311           0.584046  Quel événement a fait que Pierre-Alain Hélias ...   \n",
       "13  310           0.584046  Quel événement a fait que Pierre-Alain Hélias ...   \n",
       "14  309           0.584046  Quel événement a fait que Pierre-Alain Hélias ...   \n",
       "15  292           0.568844  Comment Pierre-Jakez Hélias s'est-il impliqué ...   \n",
       "16  291           0.568844  Comment Pierre-Jakez Hélias s'est-il impliqué ...   \n",
       "17  316           0.536618  Quelle relation familiale a Pierre-Jakez Hélia...   \n",
       "18  317           0.536618  Quelle relation familiale a Pierre-Jakez Hélia...   \n",
       "19  307           0.527176  A quel endroit Pierre-Alain Hélias a travaillé...   \n",
       "\n",
       "                         reponse  \n",
       "0                     professeur  \n",
       "1              rédacteur en chef  \n",
       "2    Paul Ricœur et Pierre Hervé  \n",
       "3    Paul Ricœur et Pierre Hervé  \n",
       "4                     Libération  \n",
       "5               35° d'artillerie  \n",
       "6            au 35° d'artillerie  \n",
       "7      entrer dans la vie active  \n",
       "8      entrer dans la vie active  \n",
       "9      entrer dans la vie active  \n",
       "10                    bretonnant  \n",
       "11                       pauvres  \n",
       "12                        guerre  \n",
       "13                     la guerre  \n",
       "14                     la guerre  \n",
       "15  il participe à la résistance  \n",
       "16     participe à la résistance  \n",
       "17                        oncles  \n",
       "18                        oncles  \n",
       "19       à la scierie du village  "
      ]
     },
     "execution_count": 148,
     "metadata": {},
     "output_type": "execute_result"
    }
   ],
   "source": [
    "import random\n",
    "rand_id = random.randint(0,11812)\n",
    "\n",
    "print(f\"id aléatoire : {rand_id}\")\n",
    "print()\n",
    "\n",
    "# Connect to an existing database\n",
    "with psycopg.connect(conninfo=db_url) as conn:\n",
    "\n",
    "    res = conn.execute(\"\"\"\n",
    "        SELECT\n",
    "        id,\n",
    "        1 - (embedding <=> (SELECT embedding FROM piaf WHERE id = %s)) AS cosine_similarity,\n",
    "        question,\n",
    "        reponse          \n",
    "        FROM piaf\n",
    "        ORDER BY cosine_similarity DESC LIMIT 20;\n",
    "    \"\"\", (rand_id, )).fetchall()\n",
    "\n",
    "    res_df = pd.DataFrame(res, columns=['id', 'cosine_similarity', 'question', 'reponse'])\n",
    "    \n",
    "res_df"
   ]
  }
 ],
 "metadata": {
  "kernelspec": {
   "display_name": ".venv",
   "language": "python",
   "name": "python3"
  },
  "language_info": {
   "codemirror_mode": {
    "name": "ipython",
    "version": 3
   },
   "file_extension": ".py",
   "mimetype": "text/x-python",
   "name": "python",
   "nbconvert_exporter": "python",
   "pygments_lexer": "ipython3",
   "version": "3.10.12"
  }
 },
 "nbformat": 4,
 "nbformat_minor": 2
}
