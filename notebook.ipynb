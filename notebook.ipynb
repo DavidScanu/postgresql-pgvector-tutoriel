{
 "cells": [
  {
   "cell_type": "markdown",
   "metadata": {},
   "source": [
    "# Comment créer une base de données vectorielle avec PostgreSLQ et pgvector\n",
    "\n",
    "## Etapes\n",
    "\n",
    "1. Créer la BDD PostgreSQL + pgvector dans un conteneur Docker\n",
    "2. Se connecter avec psql (pour vérification)\n",
    "3. Importer les données (textes)\n",
    "4. Créer les vecteurs avec Sentence Transformers\n",
    "5. Créer une table 'quora' dans la BDD\n",
    "6. Sauvegarder les données et les vecteurs dans la BDD\n",
    "7. Utiliser la recherche vectorielle "
   ]
  },
  {
   "cell_type": "markdown",
   "metadata": {},
   "source": [
    "## 1. Docker : Créer la BDD PostgreSQL + pgvector avec dans un conteneur \n",
    "\n",
    "### Docker-compose.yaml\n",
    "\n",
    "Tout d'abord, nous devons créer un fichier `docker-compose.yml` avec les services nécessaires.\n",
    "\n",
    "Dans ce fichier, nous définissons un service appelé `db` qui est basé sur l'image Docker `pgvector/pgvector:pg16`. Le service expose le port `5432` pour interagir avec la base de données et configure des variables d'environnement pour le nom de la base de données, l'utilisateur, le mot de passe et la méthode d'authentification. De plus, nous montons un fichier `init.sql` dans le répertoire `/docker-entrypoint-initdb.d` à l'intérieur du conteneur à des fins d'initialisation.\n",
    "\n",
    "### Fichier init.sql\n",
    "\n",
    "Dans ce script `init.sql`, nous activons l'extension `pgvector`, si elle n'existe pas déjà. Ensuite, nous créons une table appelée `embedding` avec les colonnes : `id`, `embedding`, `text` et `created_at`.\n",
    "\n",
    "### Créer le conteneur\n",
    "\n",
    "```\n",
    "docker-compose up -d\n",
    "```\n",
    "\n",
    "Cette commande créera un conteneur Docker avec le serveur PostgreSQL et l'extension `pgvector` déjà installés et configurés, en fonction des spécifications du fichier `docker-compose.yml`.\n",
    "\n",
    "\n",
    "#### Obsolète \n",
    "\n",
    "Créer un base de données PostgreSQL avec `docker run`\n",
    "\n",
    "```\n",
    "docker run -d --name postgresCont -p 5432:5432 -e POSTGRES_PASSWORD=pass123 postgres\n",
    "docker run -d --name postgresCont -p 5432:5432 -e POSTGRES_PASSWORD=pass123 pgvector/pgvector:pg16\n",
    "docker exec -it postgresCont bash\n",
    "psql -h localhost -U postgres\n",
    "```"
   ]
  },
  {
   "cell_type": "markdown",
   "metadata": {},
   "source": [
    "## 2. Se connecter avec psql (dans le conteneur)\n",
    "\n",
    "### Aller dans le conteneur\n",
    "\n",
    "`docker exec -it <container id> bash`\n",
    "\n",
    "### Se conncter à la base de donnée avec `psql`\n",
    "\n",
    "`psql -h localhost -U postgres -d vectordb`"
   ]
  },
  {
   "cell_type": "code",
   "execution_count": null,
   "metadata": {},
   "outputs": [],
   "source": [
    "# ! pip install sentence-transformers \"psycopg[binary]\" --quiet"
   ]
  },
  {
   "cell_type": "code",
   "execution_count": 13,
   "metadata": {},
   "outputs": [],
   "source": [
    "import os\n",
    "import time\n",
    "\n",
    "import pandas as pd\n",
    "import psycopg\n",
    "from sentence_transformers import SentenceTransformer"
   ]
  },
  {
   "cell_type": "code",
   "execution_count": 23,
   "metadata": {},
   "outputs": [
    {
     "data": {
      "application/vnd.jupyter.widget-view+json": {
       "model_id": "5d3ab14bdad74427a43b256d01cd7a53",
       "version_major": 2,
       "version_minor": 0
      },
      "text/plain": [
       "modules.json:   0%|          | 0.00/229 [00:00<?, ?B/s]"
      ]
     },
     "metadata": {},
     "output_type": "display_data"
    },
    {
     "data": {
      "application/vnd.jupyter.widget-view+json": {
       "model_id": "a71f3a20708a48d290cdf14ec49440af",
       "version_major": 2,
       "version_minor": 0
      },
      "text/plain": [
       "config_sentence_transformers.json:   0%|          | 0.00/123 [00:00<?, ?B/s]"
      ]
     },
     "metadata": {},
     "output_type": "display_data"
    },
    {
     "data": {
      "application/vnd.jupyter.widget-view+json": {
       "model_id": "fbb9ddedd3fc4c86a0fb2ae583aedf99",
       "version_major": 2,
       "version_minor": 0
      },
      "text/plain": [
       "README.md:   0%|          | 0.00/4.25k [00:00<?, ?B/s]"
      ]
     },
     "metadata": {},
     "output_type": "display_data"
    },
    {
     "data": {
      "application/vnd.jupyter.widget-view+json": {
       "model_id": "614ca5b41df84637bf89691e065b33e5",
       "version_major": 2,
       "version_minor": 0
      },
      "text/plain": [
       "sentence_bert_config.json:   0%|          | 0.00/53.0 [00:00<?, ?B/s]"
      ]
     },
     "metadata": {},
     "output_type": "display_data"
    },
    {
     "data": {
      "application/vnd.jupyter.widget-view+json": {
       "model_id": "e9d93d2be87a43a9b1373855a6a783c1",
       "version_major": 2,
       "version_minor": 0
      },
      "text/plain": [
       "config.json:   0%|          | 0.00/727 [00:00<?, ?B/s]"
      ]
     },
     "metadata": {},
     "output_type": "display_data"
    },
    {
     "data": {
      "application/vnd.jupyter.widget-view+json": {
       "model_id": "441c28f135054542a22ce47e816b843f",
       "version_major": 2,
       "version_minor": 0
      },
      "text/plain": [
       "pytorch_model.bin:   0%|          | 0.00/443M [00:00<?, ?B/s]"
      ]
     },
     "metadata": {},
     "output_type": "display_data"
    }
   ],
   "source": [
    "# Modèle Sentence Transformer pour l'encodage du jeu de données ou de la requète de recherche sémantique\n",
    "# model_name = 'all-MiniLM-L6-v2' # Vector size = 384\n",
    "# model_name = \"BAAI/bge-m3\" # vector size = 1024\n",
    "model_name = \"dangvantuan/sentence-camembert-base\" # Pre-trained sentence embedding for French.\n",
    "model = SentenceTransformer(model_name, device='cuda')"
   ]
  },
  {
   "cell_type": "markdown",
   "metadata": {},
   "source": [
    "**SentenceTransformers** est un framework Python pour la création de représentations vectorielles de phrases, de textes et d'images.\n",
    "\n",
    "- https://www.sbert.net/index.html\n",
    "- https://huggingface.co/sentence-transformers/all-MiniLM-L6-v2\n",
    "- https://huggingface.co/BAAI/bge-m3\n",
    "- https://huggingface.co/dangvantuan/sentence-camembert-large"
   ]
  },
  {
   "cell_type": "markdown",
   "metadata": {},
   "source": [
    "## 3. Importer le jeu de données (textes)\n",
    "\n",
    "Le jeu de donnée consiste en **11812 paires de question-réponses**, extraites du dataset **\"piaf v1.2\"**, disponible sur https://www.data.gouv.fr/. L'objectif est de créer des représentations vectorielles pour les questions avec un modèle **Sentence Transformers (sBert)**. Ainsi, nous pourrons effectuer une **recherche sémantique** dans les questions depuis une requète textuelle ou **trouver les questions les plus similaires** entre elles.\n",
    "\n",
    "|  | Description |\n",
    "| --- | --- |\n",
    "| Nom du fichier | question-reponse-sans-texte.csv |\n",
    "| Description du fichier | Extraction des questions-réponses à partir du fichier piaf-v1.2.json pour les visualiser au format CSV |\n",
    "| Colonnes | 2 colonnes: ['question', 'reponse'] |\n",
    "| Lignes | 11812 lignes | \n",
    "| Type MIME | text/csv |\n",
    "| Créée le | 25 mars 2021 |\n",
    "| Taille | 990.9Ko |\n",
    "\n",
    "- https://www.data.gouv.fr/fr/datasets/piaf-le-dataset-francophone-de-questions-reponses/"
   ]
  },
  {
   "cell_type": "code",
   "execution_count": 17,
   "metadata": {},
   "outputs": [],
   "source": [
    "# question-reponse-sans-texte.csv\n",
    "dataset_url = \"https://www.data.gouv.fr/fr/datasets/r/14159082-d1be-417e-a67c-c3c494c7a4ad\"\n",
    "\n",
    "dataset_df = pd.read_csv(dataset_url)"
   ]
  },
  {
   "cell_type": "code",
   "execution_count": 18,
   "metadata": {},
   "outputs": [
    {
     "data": {
      "text/plain": [
       "(11812, 2)"
      ]
     },
     "execution_count": 18,
     "metadata": {},
     "output_type": "execute_result"
    }
   ],
   "source": [
    "dataset_df.shape"
   ]
  },
  {
   "cell_type": "code",
   "execution_count": 19,
   "metadata": {},
   "outputs": [],
   "source": [
    "corpus_questions = dataset_df.loc[:, 'question'].tolist()\n",
    "corpus_reponses = dataset_df.loc[:, 'reponse'].tolist()"
   ]
  },
  {
   "cell_type": "code",
   "execution_count": 22,
   "metadata": {},
   "outputs": [
    {
     "name": "stdout",
     "output_type": "stream",
     "text": [
      "Quel architecte fût à l'origine des plans du Woolworth building? => Cass Gilbert\n",
      "Où se trouvait Franck Woolworth lors de l'inauguration de son immeuble New Yorkais ? => Washington\n",
      "Comment fût payé le bâtiment commandé par Franck Woolworth? => en cash\n",
      "En quelle année ouvrit le Woolworth Building ? => 1913\n",
      "Qui commanda la construction du Woolworth Building ? => Frank Woolworth\n",
      "Quelle femme devint reine aux côtés de Philippe le Bel ? => Jeanne Ire de Navarre\n",
      "Quel créancier du roi fut supprimé en 1312 ? => l'ordre du Temple\n",
      "Quel créancier du roi fut supprimé en 1312 ? => l'ordre du Temple\n",
      "Quelle raison pousse Philippe Le Bel à organiser les premiers Etats généraux ? => pour lever de nouveaux impôts\n",
      "Quel souverain utilise les dévaluations monétaires pour s'enrichir ? => Philippe IV le Bel\n"
     ]
    }
   ],
   "source": [
    "# Afficher les 10 premières paires de question-réponse.\n",
    "for question, reponse in zip(corpus_questions[:10], corpus_reponses[:10]):\n",
    "    print(f\"{question} => {reponse}\")"
   ]
  },
  {
   "cell_type": "markdown",
   "metadata": {},
   "source": [
    "## 4. Encoder les questions avec Sentence Transformers"
   ]
  },
  {
   "cell_type": "code",
   "execution_count": null,
   "metadata": {},
   "outputs": [],
   "source": [
    "embeddings_questions = model.encode(corpus_questions, show_progress_bar=True).tolist()"
   ]
  },
  {
   "cell_type": "markdown",
   "metadata": {},
   "source": [
    "## 5. Créer une table 'piaf' dans la BDD"
   ]
  },
  {
   "cell_type": "markdown",
   "metadata": {},
   "source": [
    "### Connexion à la base de données avec Psycopg\n",
    "\n",
    "- https://www.psycopg.org/psycopg3/docs/basic/usage.html"
   ]
  },
  {
   "cell_type": "code",
   "execution_count": 8,
   "metadata": {},
   "outputs": [],
   "source": [
    "# DEFINE THE DATABASE CREDENTIALS\n",
    "user = 'testuser'\n",
    "password = 'testpwd'\n",
    "host = 'localhost'\n",
    "port = 5432\n",
    "database = 'vectordb'\n",
    "\n",
    "db_url = f\"postgresql://{user}:{password}@{host}:{port}/{database}\""
   ]
  },
  {
   "cell_type": "markdown",
   "metadata": {},
   "source": [
    "### Effacer la table pour éviter d'ajouter des lignes en double"
   ]
  },
  {
   "cell_type": "code",
   "execution_count": null,
   "metadata": {},
   "outputs": [],
   "source": [
    "# Connect to an existing database\n",
    "with psycopg.connect(conninfo=db_url) as conn:\n",
    "    # Open a cursor to perform database operations\n",
    "    with conn.cursor() as cur:\n",
    "        # Execute a command: this creates a new table\n",
    "        cur.execute(\"\"\"\n",
    "            DROP TABLE piaf; \n",
    "            \"\"\")\n",
    "        # Make the changes to the database persistent\n",
    "        conn.commit()"
   ]
  },
  {
   "cell_type": "markdown",
   "metadata": {},
   "source": [
    "### Création de la table"
   ]
  },
  {
   "cell_type": "code",
   "execution_count": 99,
   "metadata": {},
   "outputs": [],
   "source": [
    "# Connect to an existing database\n",
    "with psycopg.connect(conninfo=db_url) as conn:\n",
    "    # Open a cursor to perform database operations\n",
    "    with conn.cursor() as cur:\n",
    "        # Execute a command: this creates a new table\n",
    "        cur.execute(\"\"\"\n",
    "            CREATE TABLE IF NOT EXISTS piaf (\n",
    "                id serial PRIMARY KEY,\n",
    "                question text NOT NULL,\n",
    "                reponse text NOT NULL,\n",
    "                embedding vector(384) NOT NULL,\n",
    "                created_at timestamptz DEFAULT now()\n",
    "                );\n",
    "            \"\"\")\n",
    "        # Make the changes to the database persistent\n",
    "        conn.commit()"
   ]
  },
  {
   "cell_type": "markdown",
   "metadata": {},
   "source": [
    "## 6. Sauvegarder les données et les vecteurs dans la BDD"
   ]
  },
  {
   "cell_type": "code",
   "execution_count": 100,
   "metadata": {},
   "outputs": [],
   "source": [
    "with psycopg.connect(conninfo=db_url) as conn:\n",
    "    # Open a cursor to perform database operations\n",
    "    with conn.cursor() as cur:\n",
    "        # Execute a command\n",
    "        for question, reponse, embedding in zip(corpus_questions, corpus_reponses, embeddings_questions):\n",
    "            cur.execute(\"\"\"INSERT INTO piaf (question, reponse, embedding) VALUES (%s, %s, %s);\"\"\", (question, reponse, embedding))\n",
    "        # Make the changes to the database persistent\n",
    "        conn.commit()"
   ]
  },
  {
   "cell_type": "markdown",
   "metadata": {},
   "source": [
    "## 7. Utiliser la recherche vectorielle "
   ]
  },
  {
   "cell_type": "markdown",
   "metadata": {},
   "source": [
    "- https://huggingface.co/sentence-transformers/quora-distilbert-multilingual"
   ]
  },
  {
   "cell_type": "markdown",
   "metadata": {},
   "source": [
    "### Rechercher par requète textuelle"
   ]
  },
  {
   "cell_type": "code",
   "execution_count": 6,
   "metadata": {},
   "outputs": [
    {
     "data": {
      "application/vnd.jupyter.widget-view+json": {
       "model_id": "29747945621d46198f0a88431378060f",
       "version_major": 2,
       "version_minor": 0
      },
      "text/plain": [
       "Batches:   0%|          | 0/1 [00:00<?, ?it/s]"
      ]
     },
     "metadata": {},
     "output_type": "display_data"
    },
    {
     "name": "stdout",
     "output_type": "stream",
     "text": [
      "CPU times: user 720 ms, sys: 132 ms, total: 853 ms\n",
      "Wall time: 1.3 s\n"
     ]
    }
   ],
   "source": [
    "%%time\n",
    "query = \"Quelle est la date de la révolution ?\"\n",
    "\n",
    "# Encoder la requète avec Sentence Transformers\n",
    "embedding_query = model.encode(query, show_progress_bar=True).tolist()"
   ]
  },
  {
   "cell_type": "code",
   "execution_count": 9,
   "metadata": {},
   "outputs": [
    {
     "name": "stdout",
     "output_type": "stream",
     "text": [
      "id : 790 | score : 0.8086 | Question : Quelle est la conséquence de la Révolution de 1911 ? | Réponse : la proclamation de la république de Chine\n",
      "id : 3835 | score : 0.7912 | Question : Quel est un des éléments de l'avènement de la révolution ? | Réponse : la baisse des salaires réels\n",
      "id : 4156 | score : 0.7891 | Question : quelle est la date de la réforme? | Réponse : 1995\n",
      "id : 4155 | score : 0.7891 | Question : quelle est la date de la réforme? | Réponse : 1995\n",
      "id : 7495 | score : 0.7807 | Question : Quelle est la date de la libération de Paris ? | Réponse : 25 août 1944\n",
      "id : 3762 | score : 0.7576 | Question : Quelle est la date de l’inauguration ? | Réponse : 11 octobre 1854\n",
      "id : 3763 | score : 0.7576 | Question : Quelle est la date de l’inauguration ? | Réponse : le 11 octobre 1854\n",
      "id : 7246 | score : 0.7532 | Question : De quand date la constitution ? | Réponse : 1974\n",
      "id : 11371 | score : 0.7186 | Question : Quelle est la date exacte du meurtre qui déclencha la guerre ? | Réponse : le 28 juin 1914\n",
      "id : 4256 | score : 0.7066 | Question : Quelle est la date de la reddition de la Grande Kabylie ? | Réponse : juillet 1857\n",
      "CPU times: user 9.42 ms, sys: 0 ns, total: 9.42 ms\n",
      "Wall time: 116 ms\n"
     ]
    }
   ],
   "source": [
    "%%time\n",
    "# Connect to an existing database\n",
    "with psycopg.connect(conninfo=db_url) as conn:\n",
    "    # Open a cursor to perform database operations\n",
    "    with conn.cursor() as cur:\n",
    "        # Execute a command: this creates a new table\n",
    "        res = cur.execute(\"\"\"\n",
    "            SELECT\n",
    "                id,\n",
    "                1 - (embedding <=> %s) AS cosine_similarity,\n",
    "                question,\n",
    "                reponse\n",
    "            FROM piaf ORDER BY cosine_similarity DESC LIMIT 10;\n",
    "        \"\"\", (str(embedding_query), )).fetchall()\n",
    "        for row in res:\n",
    "            print(f\"id : {row[0]} | score : {round(row[1], 4)} | Question : {row[2]} | Réponse : {row[3]}\")"
   ]
  },
  {
   "cell_type": "code",
   "execution_count": 10,
   "metadata": {},
   "outputs": [],
   "source": [
    "# Retourner les résultats dans une DataFrame\n",
    "def query_to_dataframe(query, column_names):\n",
    "\n",
    "    # Connect to an existing database\n",
    "    with psycopg.connect(conninfo=db_url) as conn:\n",
    "        # Open a cursor to perform database operations\n",
    "        with conn.cursor() as cur:\n",
    "            embeddings_query = model.encode(query).tolist()\n",
    "            # Execute a command: this creates a new table\n",
    "            res = cur.execute(\"\"\"\n",
    "                SELECT\n",
    "                    id,\n",
    "                    1 - (embedding <=> %s) AS cosine_similarity,\n",
    "                    question,\n",
    "                    reponse\n",
    "                FROM piaf ORDER BY cosine_similarity DESC LIMIT 10;\n",
    "            \"\"\", (str(embeddings_query), )).fetchall()\n",
    "    res_df = pd.DataFrame(res, columns=column_names)\n",
    "    return res_df"
   ]
  },
  {
   "cell_type": "code",
   "execution_count": 11,
   "metadata": {},
   "outputs": [
    {
     "name": "stdout",
     "output_type": "stream",
     "text": [
      "CPU times: user 17.4 ms, sys: 9.44 ms, total: 26.9 ms\n",
      "Wall time: 44.5 ms\n"
     ]
    },
    {
     "data": {
      "text/html": [
       "<div>\n",
       "<style scoped>\n",
       "    .dataframe tbody tr th:only-of-type {\n",
       "        vertical-align: middle;\n",
       "    }\n",
       "\n",
       "    .dataframe tbody tr th {\n",
       "        vertical-align: top;\n",
       "    }\n",
       "\n",
       "    .dataframe thead th {\n",
       "        text-align: right;\n",
       "    }\n",
       "</style>\n",
       "<table border=\"1\" class=\"dataframe\">\n",
       "  <thead>\n",
       "    <tr style=\"text-align: right;\">\n",
       "      <th></th>\n",
       "      <th>id</th>\n",
       "      <th>cosine_similarity</th>\n",
       "      <th>question</th>\n",
       "      <th>reponse</th>\n",
       "    </tr>\n",
       "  </thead>\n",
       "  <tbody>\n",
       "    <tr>\n",
       "      <th>0</th>\n",
       "      <td>7495</td>\n",
       "      <td>0.898055</td>\n",
       "      <td>Quelle est la date de la libération de Paris ?</td>\n",
       "      <td>25 août 1944</td>\n",
       "    </tr>\n",
       "    <tr>\n",
       "      <th>1</th>\n",
       "      <td>3763</td>\n",
       "      <td>0.759356</td>\n",
       "      <td>Quelle est la date de l’inauguration ?</td>\n",
       "      <td>le 11 octobre 1854</td>\n",
       "    </tr>\n",
       "    <tr>\n",
       "      <th>2</th>\n",
       "      <td>3762</td>\n",
       "      <td>0.759356</td>\n",
       "      <td>Quelle est la date de l’inauguration ?</td>\n",
       "      <td>11 octobre 1854</td>\n",
       "    </tr>\n",
       "    <tr>\n",
       "      <th>3</th>\n",
       "      <td>4155</td>\n",
       "      <td>0.755041</td>\n",
       "      <td>quelle est la date de la réforme?</td>\n",
       "      <td>1995</td>\n",
       "    </tr>\n",
       "    <tr>\n",
       "      <th>4</th>\n",
       "      <td>4156</td>\n",
       "      <td>0.755041</td>\n",
       "      <td>quelle est la date de la réforme?</td>\n",
       "      <td>1995</td>\n",
       "    </tr>\n",
       "    <tr>\n",
       "      <th>5</th>\n",
       "      <td>7810</td>\n",
       "      <td>0.748075</td>\n",
       "      <td>De quand date le début de la domination angevine?</td>\n",
       "      <td>1301</td>\n",
       "    </tr>\n",
       "    <tr>\n",
       "      <th>6</th>\n",
       "      <td>1019</td>\n",
       "      <td>0.746150</td>\n",
       "      <td>Quelle est la date de la fin de la tournée sec...</td>\n",
       "      <td>le 10 juin 2007</td>\n",
       "    </tr>\n",
       "    <tr>\n",
       "      <th>7</th>\n",
       "      <td>4256</td>\n",
       "      <td>0.738092</td>\n",
       "      <td>Quelle est la date de la reddition de la Grand...</td>\n",
       "      <td>juillet 1857</td>\n",
       "    </tr>\n",
       "    <tr>\n",
       "      <th>8</th>\n",
       "      <td>4257</td>\n",
       "      <td>0.738092</td>\n",
       "      <td>Quelle est la date de la reddition de la Grand...</td>\n",
       "      <td>juillet 1857</td>\n",
       "    </tr>\n",
       "    <tr>\n",
       "      <th>9</th>\n",
       "      <td>6857</td>\n",
       "      <td>0.726841</td>\n",
       "      <td>quelle est la date de naissance de cézanne?</td>\n",
       "      <td>19 janvier 1839</td>\n",
       "    </tr>\n",
       "  </tbody>\n",
       "</table>\n",
       "</div>"
      ],
      "text/plain": [
       "     id  cosine_similarity                                           question  \\\n",
       "0  7495           0.898055     Quelle est la date de la libération de Paris ?   \n",
       "1  3763           0.759356             Quelle est la date de l’inauguration ?   \n",
       "2  3762           0.759356             Quelle est la date de l’inauguration ?   \n",
       "3  4155           0.755041                  quelle est la date de la réforme?   \n",
       "4  4156           0.755041                  quelle est la date de la réforme?   \n",
       "5  7810           0.748075  De quand date le début de la domination angevine?   \n",
       "6  1019           0.746150  Quelle est la date de la fin de la tournée sec...   \n",
       "7  4256           0.738092  Quelle est la date de la reddition de la Grand...   \n",
       "8  4257           0.738092  Quelle est la date de la reddition de la Grand...   \n",
       "9  6857           0.726841        quelle est la date de naissance de cézanne?   \n",
       "\n",
       "              reponse  \n",
       "0        25 août 1944  \n",
       "1  le 11 octobre 1854  \n",
       "2     11 octobre 1854  \n",
       "3                1995  \n",
       "4                1995  \n",
       "5                1301  \n",
       "6     le 10 juin 2007  \n",
       "7        juillet 1857  \n",
       "8        juillet 1857  \n",
       "9     19 janvier 1839  "
      ]
     },
     "execution_count": 11,
     "metadata": {},
     "output_type": "execute_result"
    }
   ],
   "source": [
    "%%time\n",
    "# Cherchez une question en changeant cette requète\n",
    "query = \"Quelle est la date de la libération ?\"\n",
    "query_to_dataframe(query, ['id', 'cosine_similarity', 'question', 'reponse'])"
   ]
  },
  {
   "cell_type": "markdown",
   "metadata": {},
   "source": [
    "### Les plus proches voisins d'une ligne (id aléatoire)\n",
    "\n",
    "Résultats : \n",
    "- La première ligne est une ligne choisie au hasard dans la base de donnée.\n",
    "- Les lignes suivantes sont les lignes les plus proches sémantiquement, par ordre décroissant de similarité cosinus."
   ]
  },
  {
   "cell_type": "code",
   "execution_count": 12,
   "metadata": {},
   "outputs": [
    {
     "name": "stdout",
     "output_type": "stream",
     "text": [
      "Random id : 9221\n",
      "\n"
     ]
    },
    {
     "data": {
      "text/html": [
       "<div>\n",
       "<style scoped>\n",
       "    .dataframe tbody tr th:only-of-type {\n",
       "        vertical-align: middle;\n",
       "    }\n",
       "\n",
       "    .dataframe tbody tr th {\n",
       "        vertical-align: top;\n",
       "    }\n",
       "\n",
       "    .dataframe thead th {\n",
       "        text-align: right;\n",
       "    }\n",
       "</style>\n",
       "<table border=\"1\" class=\"dataframe\">\n",
       "  <thead>\n",
       "    <tr style=\"text-align: right;\">\n",
       "      <th></th>\n",
       "      <th>id</th>\n",
       "      <th>cosine_similarity</th>\n",
       "      <th>question</th>\n",
       "      <th>reponse</th>\n",
       "    </tr>\n",
       "  </thead>\n",
       "  <tbody>\n",
       "    <tr>\n",
       "      <th>0</th>\n",
       "      <td>9221</td>\n",
       "      <td>1.000000</td>\n",
       "      <td>Comment meurt l'ami de Dagen ?</td>\n",
       "      <td>pendu</td>\n",
       "    </tr>\n",
       "    <tr>\n",
       "      <th>1</th>\n",
       "      <td>9261</td>\n",
       "      <td>0.622928</td>\n",
       "      <td>Qui meurt ?</td>\n",
       "      <td>Dina</td>\n",
       "    </tr>\n",
       "    <tr>\n",
       "      <th>2</th>\n",
       "      <td>3224</td>\n",
       "      <td>0.618013</td>\n",
       "      <td>Où est l'Ouganda ?</td>\n",
       "      <td>la région des Grands Lacs</td>\n",
       "    </tr>\n",
       "    <tr>\n",
       "      <th>3</th>\n",
       "      <td>3225</td>\n",
       "      <td>0.618013</td>\n",
       "      <td>Où est l'Ouganda ?</td>\n",
       "      <td>région des Grands Lacs</td>\n",
       "    </tr>\n",
       "    <tr>\n",
       "      <th>4</th>\n",
       "      <td>1080</td>\n",
       "      <td>0.598873</td>\n",
       "      <td>Qu'est-ce que l'Ouadia ?</td>\n",
       "      <td>un droit de passage</td>\n",
       "    </tr>\n",
       "    <tr>\n",
       "      <th>5</th>\n",
       "      <td>9253</td>\n",
       "      <td>0.598135</td>\n",
       "      <td>Que doit soulever Dagen ?</td>\n",
       "      <td>une très lourde charge</td>\n",
       "    </tr>\n",
       "    <tr>\n",
       "      <th>6</th>\n",
       "      <td>4060</td>\n",
       "      <td>0.592176</td>\n",
       "      <td>Comment est morte Hegwige ?</td>\n",
       "      <td>tuée lors d'une attaque de Mangemorts</td>\n",
       "    </tr>\n",
       "    <tr>\n",
       "      <th>7</th>\n",
       "      <td>10952</td>\n",
       "      <td>0.591812</td>\n",
       "      <td>Qui est le Dr Oudot ?</td>\n",
       "      <td>le médecin de l'expédition</td>\n",
       "    </tr>\n",
       "    <tr>\n",
       "      <th>8</th>\n",
       "      <td>3293</td>\n",
       "      <td>0.590706</td>\n",
       "      <td>À qui est alliée la maison d'Este ?</td>\n",
       "      <td>Carlo Gesualdo</td>\n",
       "    </tr>\n",
       "    <tr>\n",
       "      <th>9</th>\n",
       "      <td>3294</td>\n",
       "      <td>0.590706</td>\n",
       "      <td>À qui est alliée la maison d'Este ?</td>\n",
       "      <td>duché de Ferrare</td>\n",
       "    </tr>\n",
       "    <tr>\n",
       "      <th>10</th>\n",
       "      <td>8662</td>\n",
       "      <td>0.587977</td>\n",
       "      <td>Quand s'est déroulé le meurtre ?</td>\n",
       "      <td>sixième heure de la nuit</td>\n",
       "    </tr>\n",
       "    <tr>\n",
       "      <th>11</th>\n",
       "      <td>9224</td>\n",
       "      <td>0.587702</td>\n",
       "      <td>Où se trouvent Dagen et son meilleur ami l'un ...</td>\n",
       "      <td>aux côtés opposés</td>\n",
       "    </tr>\n",
       "    <tr>\n",
       "      <th>12</th>\n",
       "      <td>9254</td>\n",
       "      <td>0.587268</td>\n",
       "      <td>Où se trouve l'avocate de Dagen ?</td>\n",
       "      <td>dans une seconde pièce</td>\n",
       "    </tr>\n",
       "    <tr>\n",
       "      <th>13</th>\n",
       "      <td>2256</td>\n",
       "      <td>0.582415</td>\n",
       "      <td>Comment est mort David ?</td>\n",
       "      <td>un attentat suicide dans un bus</td>\n",
       "    </tr>\n",
       "    <tr>\n",
       "      <th>14</th>\n",
       "      <td>2255</td>\n",
       "      <td>0.582415</td>\n",
       "      <td>Comment est mort David ?</td>\n",
       "      <td>attentat suicide</td>\n",
       "    </tr>\n",
       "    <tr>\n",
       "      <th>15</th>\n",
       "      <td>9258</td>\n",
       "      <td>0.580614</td>\n",
       "      <td>Qui participaient à la réunion organisée par D...</td>\n",
       "      <td>quelques survivants des pièges de Jigsaw</td>\n",
       "    </tr>\n",
       "    <tr>\n",
       "      <th>16</th>\n",
       "      <td>5742</td>\n",
       "      <td>0.578199</td>\n",
       "      <td>comien mesure la bouche droite ?</td>\n",
       "      <td>17 cm</td>\n",
       "    </tr>\n",
       "    <tr>\n",
       "      <th>17</th>\n",
       "      <td>2842</td>\n",
       "      <td>0.577959</td>\n",
       "      <td>Qui est dite La Poune ?</td>\n",
       "      <td>Rose Ouellette</td>\n",
       "    </tr>\n",
       "    <tr>\n",
       "      <th>18</th>\n",
       "      <td>2843</td>\n",
       "      <td>0.577959</td>\n",
       "      <td>Qui est dite La Poune ?</td>\n",
       "      <td>Rose Ouellette</td>\n",
       "    </tr>\n",
       "    <tr>\n",
       "      <th>19</th>\n",
       "      <td>11336</td>\n",
       "      <td>0.572408</td>\n",
       "      <td>Comment est le Christ ?</td>\n",
       "      <td>totalement divin et totalement humain</td>\n",
       "    </tr>\n",
       "  </tbody>\n",
       "</table>\n",
       "</div>"
      ],
      "text/plain": [
       "       id  cosine_similarity  \\\n",
       "0    9221           1.000000   \n",
       "1    9261           0.622928   \n",
       "2    3224           0.618013   \n",
       "3    3225           0.618013   \n",
       "4    1080           0.598873   \n",
       "5    9253           0.598135   \n",
       "6    4060           0.592176   \n",
       "7   10952           0.591812   \n",
       "8    3293           0.590706   \n",
       "9    3294           0.590706   \n",
       "10   8662           0.587977   \n",
       "11   9224           0.587702   \n",
       "12   9254           0.587268   \n",
       "13   2256           0.582415   \n",
       "14   2255           0.582415   \n",
       "15   9258           0.580614   \n",
       "16   5742           0.578199   \n",
       "17   2842           0.577959   \n",
       "18   2843           0.577959   \n",
       "19  11336           0.572408   \n",
       "\n",
       "                                             question  \\\n",
       "0                      Comment meurt l'ami de Dagen ?   \n",
       "1                                         Qui meurt ?   \n",
       "2                                  Où est l'Ouganda ?   \n",
       "3                                  Où est l'Ouganda ?   \n",
       "4                            Qu'est-ce que l'Ouadia ?   \n",
       "5                           Que doit soulever Dagen ?   \n",
       "6                         Comment est morte Hegwige ?   \n",
       "7                               Qui est le Dr Oudot ?   \n",
       "8                 À qui est alliée la maison d'Este ?   \n",
       "9                 À qui est alliée la maison d'Este ?   \n",
       "10                   Quand s'est déroulé le meurtre ?   \n",
       "11  Où se trouvent Dagen et son meilleur ami l'un ...   \n",
       "12                  Où se trouve l'avocate de Dagen ?   \n",
       "13                           Comment est mort David ?   \n",
       "14                           Comment est mort David ?   \n",
       "15  Qui participaient à la réunion organisée par D...   \n",
       "16                   comien mesure la bouche droite ?   \n",
       "17                            Qui est dite La Poune ?   \n",
       "18                            Qui est dite La Poune ?   \n",
       "19                            Comment est le Christ ?   \n",
       "\n",
       "                                     reponse  \n",
       "0                                      pendu  \n",
       "1                                       Dina  \n",
       "2                  la région des Grands Lacs  \n",
       "3                     région des Grands Lacs  \n",
       "4                        un droit de passage  \n",
       "5                     une très lourde charge  \n",
       "6      tuée lors d'une attaque de Mangemorts  \n",
       "7                 le médecin de l'expédition  \n",
       "8                             Carlo Gesualdo  \n",
       "9                           duché de Ferrare  \n",
       "10                  sixième heure de la nuit  \n",
       "11                         aux côtés opposés  \n",
       "12                    dans une seconde pièce  \n",
       "13           un attentat suicide dans un bus  \n",
       "14                          attentat suicide  \n",
       "15  quelques survivants des pièges de Jigsaw  \n",
       "16                                     17 cm  \n",
       "17                            Rose Ouellette  \n",
       "18                            Rose Ouellette  \n",
       "19     totalement divin et totalement humain  "
      ]
     },
     "execution_count": 12,
     "metadata": {},
     "output_type": "execute_result"
    }
   ],
   "source": [
    "import random\n",
    "rand_id = random.randint(0,11812)\n",
    "\n",
    "print(f\"Random id : {rand_id}\")\n",
    "print()\n",
    "\n",
    "# Connect to an existing database\n",
    "with psycopg.connect(conninfo=db_url) as conn:\n",
    "    # Open a cursor to perform database operations\n",
    "    with conn.cursor() as cur:\n",
    "\n",
    "        res = cur.execute(\"\"\"\n",
    "            SELECT\n",
    "            id,\n",
    "            1 - (embedding <=> (SELECT embedding FROM piaf WHERE id = %s)) AS cosine_similarity,\n",
    "            question,\n",
    "            reponse          \n",
    "            FROM piaf\n",
    "            ORDER BY cosine_similarity DESC LIMIT 20;\n",
    "        \"\"\", (rand_id, )).fetchall()\n",
    "\n",
    "        res_df = pd.DataFrame(res, columns=['id', 'cosine_similarity', 'question', 'reponse'])\n",
    "res_df"
   ]
  }
 ],
 "metadata": {
  "kernelspec": {
   "display_name": ".venv",
   "language": "python",
   "name": "python3"
  },
  "language_info": {
   "codemirror_mode": {
    "name": "ipython",
    "version": 3
   },
   "file_extension": ".py",
   "mimetype": "text/x-python",
   "name": "python",
   "nbconvert_exporter": "python",
   "pygments_lexer": "ipython3",
   "version": "3.10.12"
  }
 },
 "nbformat": 4,
 "nbformat_minor": 2
}
